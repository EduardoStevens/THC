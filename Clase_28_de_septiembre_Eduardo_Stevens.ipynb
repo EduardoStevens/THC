{
  "nbformat": 4,
  "nbformat_minor": 0,
  "metadata": {
    "colab": {
      "provenance": []
    },
    "kernelspec": {
      "name": "python3",
      "display_name": "Python 3"
    },
    "language_info": {
      "name": "python"
    }
  },
  "cells": [
    {
      "cell_type": "code",
      "execution_count": 1,
      "metadata": {
        "colab": {
          "base_uri": "https://localhost:8080/"
        },
        "id": "92IhiLlh3-Jk",
        "outputId": "d43f40b8-04ae-4dc4-e50c-c296a1bd0e18"
      },
      "outputs": [
        {
          "output_type": "stream",
          "name": "stdout",
          "text": [
            "B\n"
          ]
        }
      ],
      "source": [
        "a = 330\n",
        "b = 331\n",
        "if a > b:\n",
        "    print(\"A\")\n",
        "elif a==b:\n",
        "    print(\"=\")\n",
        "else:\n",
        "    print(\"B\")\n"
      ]
    },
    {
      "cell_type": "code",
      "source": [
        "x=input(\"Escriba un numero \")\n",
        "x=int(x)\n",
        "if x%2==0:\n",
        "    if x%7==0:\n",
        "        print(\"Es par y divisible entre 7\")\n",
        "    else:\n",
        "        print(\"No es divisible entre 7, pero sí es par\")\n",
        "else:\n",
        "    if x%7==0:\n",
        "        print(\"No es par, pero sí es divisible entre 7\")\n",
        "    else:\n",
        "        print(\"No es par ni divisible entre 7\")"
      ],
      "metadata": {
        "colab": {
          "base_uri": "https://localhost:8080/"
        },
        "id": "nNUdzqKM41UW",
        "outputId": "cb0c0484-247a-48ff-cac4-18a6696f0b66"
      },
      "execution_count": 4,
      "outputs": [
        {
          "output_type": "stream",
          "name": "stdout",
          "text": [
            "Escriba un numero 21\n",
            "No es par, pero sí es divisible entre 7\n"
          ]
        }
      ]
    },
    {
      "cell_type": "code",
      "source": [
        "if not a > b:\n",
        "  print(\"a no es mayor que b\")"
      ],
      "metadata": {
        "colab": {
          "base_uri": "https://localhost:8080/"
        },
        "id": "zs9NTRXl5DeY",
        "outputId": "eb9b585d-6eca-4f5a-c3e1-96afb4456cf2"
      },
      "execution_count": 5,
      "outputs": [
        {
          "output_type": "stream",
          "name": "stdout",
          "text": [
            "a no es mayor que b\n"
          ]
        }
      ]
    },
    {
      "cell_type": "code",
      "source": [
        "print('Calculadora')\n",
        "s =input(\"Eliga ropa, alimento o electronica: \")\n",
        "if s=='alimento':\n",
        "    n = input(\"Escribe el precio del producto: \")\n",
        "    n=float(n)\n",
        "    print(\"El precio del alimento con descuento es: \" + str(n*((100-10)/100)))\n",
        "elif s=='ropa':\n",
        "    n = input(\"Escribe el precio del producto: \")\n",
        "    n=float(n)\n",
        "    print(\"El precio de la ropa con descuento es: \" + str(n*((100-20)/100)))\n",
        "elif s=='electronica':\n",
        "    n = input(\"Escribe el precio del producto: \")\n",
        "    n=float(n)\n",
        "    print(\"El precio del electrónico con descuento es: \" + str(n*((100-30)/100)))\n",
        "else:\n",
        "    print('Opción no valida')"
      ],
      "metadata": {
        "colab": {
          "base_uri": "https://localhost:8080/"
        },
        "id": "wQTqHPU-5OM7",
        "outputId": "ad2cb7b1-71b2-4b43-dcd3-f4651de654ff"
      },
      "execution_count": 6,
      "outputs": [
        {
          "output_type": "stream",
          "name": "stdout",
          "text": [
            "Calculadora\n",
            "Eliga ropa, alimento o electronica: alimento\n",
            "Escribe el precio del producto: 129.45\n",
            "El precio del alimento con descuento es: 116.505\n"
          ]
        }
      ]
    }
  ]
}