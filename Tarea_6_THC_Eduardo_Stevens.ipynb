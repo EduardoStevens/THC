{
  "nbformat": 4,
  "nbformat_minor": 0,
  "metadata": {
    "colab": {
      "provenance": []
    },
    "kernelspec": {
      "name": "python3",
      "display_name": "Python 3"
    },
    "language_info": {
      "name": "python"
    }
  },
  "cells": [
    {
      "cell_type": "code",
      "execution_count": 1,
      "metadata": {
        "colab": {
          "base_uri": "https://localhost:8080/"
        },
        "id": "fCWWb2Ue8r0o",
        "outputId": "cb6ada9c-0284-4b36-c057-3ce28face6b3"
      },
      "outputs": [
        {
          "output_type": "stream",
          "name": "stdout",
          "text": [
            "Producto entre vectores: \n",
            "[6, 14, 24, 36, 50]\n"
          ]
        }
      ],
      "source": [
        "def prod_vec(a,b):\n",
        "    n=len(a)\n",
        "    c=n*[0.0]\n",
        "    if len(a)==len(b):\n",
        "        for i in range(n):\n",
        "            c[i]=a[i]*b[i]\n",
        "    print(c)\n",
        "\n",
        "a=[1,2,3,4,5]\n",
        "b=[6,7,8,9,10]\n",
        "\n",
        "print(\"Producto entre vectores: \")\n",
        "prod_vec(a,b)"
      ]
    },
    {
      "cell_type": "code",
      "source": [
        "def pot_vec(a):\n",
        "    n=len(a)\n",
        "    c=n*[0.0]\n",
        "    for i in range(n):\n",
        "        c[i]=(a[i])**3\n",
        "    print(c)\n",
        "\n",
        "a=[5,7,3,8,4]\n",
        "\n",
        "print(\"Potencia de vector: \")\n",
        "pot_vec(a)"
      ],
      "metadata": {
        "colab": {
          "base_uri": "https://localhost:8080/"
        },
        "id": "Nn4ZSfua9JsK",
        "outputId": "2135ee01-897d-4251-f76c-dcb31779ee85"
      },
      "execution_count": 2,
      "outputs": [
        {
          "output_type": "stream",
          "name": "stdout",
          "text": [
            "Potencia de vector: \n",
            "[125, 343, 27, 512, 64]\n"
          ]
        }
      ]
    },
    {
      "cell_type": "code",
      "source": [
        "def prod_esc(a,b):\n",
        "    n=len(a)\n",
        "    c=0\n",
        "    for i in range(n):\n",
        "        c+=a[i]*b[i]\n",
        "    print(c)\n",
        "\n",
        "a=[4,6,7,2,1]\n",
        "b=[5,7,4,2,10]\n",
        "\n",
        "print(\"Producto escalar entre vectores: \")\n",
        "prod_esc(a,b)"
      ],
      "metadata": {
        "colab": {
          "base_uri": "https://localhost:8080/"
        },
        "id": "kqlb61oi9VFj",
        "outputId": "685a9009-a6ea-4430-8c02-b406e08c914c"
      },
      "execution_count": 3,
      "outputs": [
        {
          "output_type": "stream",
          "name": "stdout",
          "text": [
            "Producto escalar entre vectores: \n",
            "104\n"
          ]
        }
      ]
    }
  ]
}