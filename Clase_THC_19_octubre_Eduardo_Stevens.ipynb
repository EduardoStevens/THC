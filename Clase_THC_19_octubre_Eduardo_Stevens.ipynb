{
  "nbformat": 4,
  "nbformat_minor": 0,
  "metadata": {
    "colab": {
      "provenance": []
    },
    "kernelspec": {
      "name": "python3",
      "display_name": "Python 3"
    },
    "language_info": {
      "name": "python"
    }
  },
  "cells": [
    {
      "cell_type": "code",
      "execution_count": null,
      "metadata": {
        "colab": {
          "base_uri": "https://localhost:8080/"
        },
        "id": "A2eoYR7kD7XE",
        "outputId": "d5683d63-395f-4c94-aa3e-254c4b1cc7aa"
      },
      "outputs": [
        {
          "output_type": "stream",
          "name": "stdout",
          "text": [
            "[1 2 3 4 5 6]\n",
            "3\n",
            "[[1 2 3]\n",
            " [4 5 6]]\n",
            "5\n",
            "\n",
            "[[[1 2 3]\n",
            "  [4 5 6]]\n",
            "\n",
            " [[1 2 3]\n",
            "  [4 5 6]]]\n",
            "6\n",
            "\n",
            "1 (1,)\n",
            "1 (6,)\n",
            "2 (2, 3)\n",
            "3 (2, 2, 3)\n"
          ]
        }
      ],
      "source": [
        "import numpy as np\n",
        "\n",
        "arr=np.array([0])\n",
        "\n",
        "arr1=np.array([1,2,3,4,5,6])\n",
        "print(arr1)\n",
        "\n",
        "print(arr1[2])\n",
        "\n",
        "arr2=np.array([[1,2,3],[4,5,6]])\n",
        "print(arr2)\n",
        "print(arr2[1][1])\n",
        "\n",
        "print()\n",
        "arr3=np.array([[[1,2,3],[4,5,6]],[[1,2,3],[4,5,6]]])\n",
        "print(arr3)\n",
        "print(arr3[0][1][2])\n",
        "\n",
        "print()\n",
        "print(arr.ndim, arr.shape)\n",
        "print(arr1.ndim, arr1.shape)\n",
        "print(arr2.ndim, arr2.shape)\n",
        "print(arr3.ndim, arr3.shape)"
      ]
    },
    {
      "cell_type": "code",
      "source": [
        "import numpy as np\n",
        "A=[[1,2,3],[4,5,6],[7,8,9]]\n",
        "B=np.array(([1,2,3],[4,5,6],[7,8,9]))\n",
        "suma=0\n",
        "suma2=0\n",
        "\n",
        "for i in range(len(A)):\n",
        "  for j in range(len(A)):\n",
        "    suma+=int(A[i][j])\n",
        "\n",
        "for i in range(len(B)):\n",
        "  for j in range(len(B)):\n",
        "    suma2+=int(B[i][j])\n",
        "\n",
        "print(A[0][1])\n",
        "print(B[2][2])\n",
        "print()\n",
        "print(\"Suma de matriz con listas: \" + str(suma))\n",
        "print(\"Suma de matiz con arreglos: \" + str(suma2))\n",
        "\n",
        "a=[[1,2],[3,4]]\n",
        "b=[[5,6],[7,8]]\n",
        "\n",
        "c=np.array(([1,2],[3,4]))\n",
        "d=np.array(([5,6],[7,8]))\n",
        "e=np.array(([1,1,1],[1,1,1],[1,1,1]))\n",
        "f=np.array(([1,1,1],[1,1,1],[1,1,1]))\n",
        "suma3=0\n",
        "suma4=0\n",
        "suma5=0\n",
        "\n",
        "for i in range(len(a[0])):\n",
        "  suma3+=a[0][i]*b[0][i]\n",
        "print(\"Producto interno renglones: \" + str(suma3))\n",
        "\n",
        "for i in range(len(c[0])):\n",
        "  suma4+=c[i][0]*d[i][0]\n",
        "print(\"Producto interno columnas: \" + str(suma4))\n",
        "\n",
        "for i in range(len(e)):\n",
        "  for j in range(len(e)):\n",
        "    suma5+=e[i][j]*f[i][j]\n",
        "\n",
        "print(\"Suma producto interno: \" + str(suma5))"
      ],
      "metadata": {
        "colab": {
          "base_uri": "https://localhost:8080/"
        },
        "id": "B7eZcw5NJ-63",
        "outputId": "de0c0442-b9ba-4139-dc39-3fc04f250de6"
      },
      "execution_count": null,
      "outputs": [
        {
          "output_type": "stream",
          "name": "stdout",
          "text": [
            "2\n",
            "9\n",
            "\n",
            "Suma de matriz con listas: 45\n",
            "Suma de matiz con arreglos: 45\n",
            "Producto interno renglones: 17\n",
            "Producto interno columnas: 26\n",
            "Suma producto interno: 9\n"
          ]
        }
      ]
    }
  ]
}