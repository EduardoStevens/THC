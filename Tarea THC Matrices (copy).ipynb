import numpy as np
import math as ma
print("Tarea Operaciones con Matrices")
print("Jorge Guadalupe Mancilla Laguna y Eduardo Orlando Stevens Lira")

#Funcion para ingresar los valores de la matriz pidiendolo al usuario y devuelve un arreglo NumPy
def ingreso_matriz():
    #Declaracion de variable filas otorgada por el usuario
    filas=int(input("Escriba el numero de filas de la matriz: "))
    #Declaracion de variable columnas otorgada por el usuario
    columnas=int(input("Escriba el numero de columans de la matriz: "))
    #Declaracion de lista Matriz
    matriz=[]
    #Ciclo for para ingresar los valores que el usuario otorga
    print("Ingrese los valores: ")
    for i in range(filas):       
        a =[]
        for j in range(columnas):     
            a.append(int(input()))
        matriz.append(a)
    arr=np.array(matriz)
    return arr

#Funcion para sumar matrices que devuelve matriz suma
def suma_matrices(m1,m2):
    #Condicional if para evaluar el tamano correcto de las dos matrices
    if(m1.size!=m2.size):
        print("No se puede hacer la suma entre estas dos matrices, tamano incorrecto")
    else:
        #Declaracion de matriz vacia
        m3=np.zeros((len(m1),len(m1[0])))
        for i in range(len(m1)):
            for j in range(len(m1[0])):
                m3[i][j]=0
        #Ciclo for para sumar cada valor de la matriz 1 con la matriz 2
        for i in range(len(m1)):
            for j in range(len(m1[0])):
                m3[i][j]=m1[i][j]+m2[i][j]    
    return m3

#Funcion para multiplicar matrices que devuelve una matriz multiplicada
def  multiplicacion_matriz(m1,m2):
    #Condicional para evaluar que las dimensiones de las matrices a multiplicar sea correcta
    if len(m2)!=len(m1[0]):
        print("No es posible la multiplicacion entre estas dos matrices, tamano incorrecto")
    else:
        #Declaracion de matriz vacia para guardar resultado
        m3=np.zeros((len(m2[0]),len(m1)))
        #Ciclo for para multiplicar la matriz evaluando renglon por columna y colocando el resultado de la suma en los lugares de la matriz tercera 
        for i in range(len(m1)):
            #Ciclo for para recorrer columnas de las matrices
            for j in range(len(m2[0])):
                #Ciclo for para acomodar el desface de las matrices a multiplicar 
                for k in range(len(m1)):
                    #Resultado de suma acumulada de multilicacion de cada elemento renglon por columna
                    m3[i][j]+=m1[i][k]*m2[k][j]
    return m3

#Funcion que evalua la traza de la matriz, devuelve un valor entero
def traza_matriz(m1):
    s=0
    #Condicional if para evaluar las dimensiones de la matriz
    if len(m1)!=len(m1[0]):
        print("No es posible obtener la traza de la matriz")
    else:
        #Ciclo for para sumar los valores de la traza de la matriz
        for i in range(len(m1)): 
            s+=m1[i][i]
    return s

#Funcion para evaluar la transpuesta de una matriz, devolviendo una matriz NumPy 
def transpuesta_matriz(m1):
    m2=np.zeros((len(m1),len(m1[0])))
    #Ciclo for para recorrer las filas de la matriz
    for i in range(len(m1)):
        #Ciclo for para recorrer las columnas de la matriz
        for j in range(len(m1[0])):
            #Asignacion de valor de la transpuesta
            m2[j][i]=m1[i][j]
    return m2    

#Funcion para otener el valor maximo de una matriz
def maximo_valor(m1):    
    arr=[]
    #Ciclo for para convertir matriz NumPy a lista para ser mas facil de manejar
    for i in range(len(m1)):
        for j in range(len(m1[0])):
            arr.append(m1[i][j])

    #Ciclo for para encontrar el valor maximo usando el algoritmo burbuja
    for i in range(len(arr)):
        for j in range(len(arr)): 
            if arr[i]>arr[j]:
                c=arr[i]
                arr[i]=arr[j]
                arr[j]=c
    #Regreso del valor inicial acomodado por el algoritmo
    return(arr[0])

#Funcion valor minimo para encontrar el valor mas pequeno de una matriz, devolviendo un valor entero
def minimo_valor(m1):    
    #Declaracion de arreglo
    arr=[]
    #Ciclo for para convertir matriz NumPy en lista
    for i in range(len(m1)):
        for j in range(len(m1[0])):
            arr.append(m1[i][j])
    #Ciclo for para encontrar valor minimo, con el algoritmo bubuja
    for i in range(len(arr)):
        for j in range(len(arr)): 
            if arr[i]>arr[j]:
                c=arr[i]
                arr[i]=arr[j]
                arr[j]=c
    #Regresa el valor ultimo de la lista, que es el minimo de la mmatriz NumPy
    return(arr[len(arr)-1])

#Funcion que suma los cuadrados de la matriz
def suma_cuadrados_matriz(m1):
    #Declaracion de variable acumladora
    s=0
    #Ciclo for para recorrer la matriz y obtener el cuadrado de sus valores y sumarlos, colocandolos en la variable acumuladora
    for i in range(len(m1)):
        for j in range(len(m1[0])):
            s+=ma.pow(m1[i][j],2)
    return(s)

#Funcion para obtener la matriz potencia de la matriz NumPy
def potencia_matriz(m1):
    #Declaracion de matriz resultado
    m2=np.zeros((len(m1),len(m1[0])))
    #Ciclo for para recorrer la matriz y elevar los valores a la segunda potencia 
    for i in range(len(m1)):
        for j in range(len(m1[0])):
            #Se guarda cada valor en la matriz resultado
            m2[i][j]=ma.pow(m1[i][j],2)
    return m2

#Declaracion de variable que pide al usuario su eleccion al inicio del programa
selec=input("Para elegir la operacion con matrices, escriba 1 para la suma, 2 para la multiplicacion, 3 para obtener la traza, 4 para obtener la transpuesta, 5 para obtener maximo valor de matriz, 6 pra obtener el valor minimo de la matriz, 7 para obtener la suma de los elementos de los cudarados o 8 para obtener la potencia de la matriz: ")
#Condicional if para elegir en el programa operacion de matrices, llamando a las funciones anteriormente creadas en cada caso
if selec=="1":
    matriz1=ingreso_matriz()
    matriz2=ingreso_matriz()
    matriz3=suma_matrices(matriz1,matriz2)
    print(matriz1)
    print(matriz2)
    print("La suma de las matrices es: ")
    print(matriz3)
elif selec=="2":
    matriz1=ingreso_matriz()
    matriz2=ingreso_matriz()
    matriz4=multiplicacion_matriz(matriz1,matriz2)
    print(matriz1)
    print(matriz2)
    print("La multiplicacion de las matrices es: ")
    print(matriz4)
elif selec=="3":
    matriz1=ingreso_matriz()
    matriz5=traza_matriz(matriz1)
    print("La traza de la matriz es: ")
    print(matriz5)
elif selec=="4":
    matriz1=ingreso_matriz()
    matriz6=transpuesta_matriz(matriz1)
    print("La traspuesta de la matriz es: ")
    print(matriz6)
elif selec=="5":
    matriz1=ingreso_matriz()
    s=maximo_valor(matriz1)
    print("El valor maximo de la matriz es: " + str(s))
elif selec=="6":
    matriz1=ingreso_matriz()
    s=minimo_valor(matriz1)
    print("El valor minimo de la matriz es: " + str(s))
elif selec=="7":
    matriz1=ingreso_matriz()
    s=suma_cuadrados_matriz(matriz1)
    print("La suma de cuadrados de la matriz es: " + str(s))
elif selec=="8":
    matriz1=ingreso_matriz()
    matriz7=potencia_matriz(matriz1)
    print("La potencia de la matriz es: ")
    print(matriz7)