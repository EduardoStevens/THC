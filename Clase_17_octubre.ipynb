{
  "nbformat": 4,
  "nbformat_minor": 0,
  "metadata": {
    "colab": {
      "provenance": []
    },
    "kernelspec": {
      "name": "python3",
      "display_name": "Python 3"
    },
    "language_info": {
      "name": "python"
    }
  },
  "cells": [
    {
      "cell_type": "code",
      "execution_count": null,
      "metadata": {
        "id": "Niryab_dxDP8",
        "colab": {
          "base_uri": "https://localhost:8080/"
        },
        "outputId": "c9313320-8c0d-4713-f709-c1586e99d0d7"
      },
      "outputs": [
        {
          "output_type": "stream",
          "name": "stdout",
          "text": [
            "8\n",
            "35\n",
            "291730871263727.44\n"
          ]
        }
      ],
      "source": [
        "import math\n",
        "print(math.ceil(7.6))\n",
        "print(math.comb(7,4))\n",
        "math.isinf(math.inf)\n",
        "print(math.cosh(34))\n"
      ]
    },
    {
      "cell_type": "code",
      "source": [
        "import random\n",
        "random.seed(10)\n",
        "print(random.random())\n",
        "print(random.randint(3, 9))\n",
        "mylist=[\"apple\", \"banana\", \"cherry\"]\n",
        "print(random.choice(mylist))"
      ],
      "metadata": {
        "colab": {
          "base_uri": "https://localhost:8080/"
        },
        "id": "V1knxaEqz6tU",
        "outputId": "ea35bb3a-817c-4df1-9906-64ce0226b4d3"
      },
      "execution_count": null,
      "outputs": [
        {
          "output_type": "stream",
          "name": "stdout",
          "text": [
            "0.5714025946899135\n",
            "6\n",
            "banana\n"
          ]
        }
      ]
    },
    {
      "cell_type": "code",
      "source": [
        "A=[[1,2,3],[4,5,6],[7,8,9]]\n",
        "print(A)\n",
        "B=[[10,11,12],[13,14,15],[16,17,18]]\n",
        "print(B)\n",
        "print(A[2][0])\n",
        "print(B[1][2])\n",
        "\n",
        "print(\"Matriz A\")\n",
        "for i in range(len(A)):\n",
        "  for j in range(len(A)):\n",
        "    print(A[i][j])\n",
        "\n",
        "print(\"Matriz B\")\n",
        "for i in range(len(B)):\n",
        "  for j in range(len(B)):\n",
        "    print(B[i][j])\n",
        "\n",
        "print(\"Suma Matriz A y B\")\n",
        "C=[[0 for _ in range(len(A))] for _ in range(len(A))]\n",
        "for i in range(len(A)):\n",
        "  for j in range(len(A)):\n",
        "   C[i][j]=A[i][j]+B[i][j]\n",
        "print(C)"
      ],
      "metadata": {
        "colab": {
          "base_uri": "https://localhost:8080/"
        },
        "id": "S3NNCbn42V0l",
        "outputId": "e834609f-f29d-4830-d885-db372ba220f6"
      },
      "execution_count": 2,
      "outputs": [
        {
          "output_type": "stream",
          "name": "stdout",
          "text": [
            "[[1, 2, 3], [4, 5, 6], [7, 8, 9]]\n",
            "[[10, 11, 12], [13, 14, 15], [16, 17, 18]]\n",
            "7\n",
            "15\n",
            "Matriz A\n",
            "1\n",
            "2\n",
            "3\n",
            "4\n",
            "5\n",
            "6\n",
            "7\n",
            "8\n",
            "9\n",
            "Matriz B\n",
            "10\n",
            "11\n",
            "12\n",
            "13\n",
            "14\n",
            "15\n",
            "16\n",
            "17\n",
            "18\n",
            "Suma Matriz A y B\n",
            "[[11, 13, 15], [17, 19, 21], [23, 25, 27]]\n"
          ]
        }
      ]
    },
    {
      "cell_type": "code",
      "source": [
        "F=[5,3,1,9,10,2,15]\n",
        "print(F)\n",
        "for i in range(len(F)):\n",
        "  for j in range(len(F)):\n",
        "    if F[i]<F[j]:\n",
        "      c=F[j]\n",
        "      F[j]=F[i]\n",
        "      F[i]=c\n",
        "print(F)\n",
        "\n",
        "G=[5,4,3,2,1]\n",
        "for i in range(len(G)-1):\n",
        "    if G[i]>G[i+1]:\n",
        "      c=G[i+1]\n",
        "      G[i+1]=G[i]\n",
        "      G[i]=c\n",
        "print(G)"
      ],
      "metadata": {
        "colab": {
          "base_uri": "https://localhost:8080/"
        },
        "id": "PMnAJ8qls22g",
        "outputId": "b76aa3c9-d850-4f12-835c-3c68f8ad3005"
      },
      "execution_count": 1,
      "outputs": [
        {
          "output_type": "stream",
          "name": "stdout",
          "text": [
            "[5, 3, 1, 9, 10, 2, 15]\n",
            "[1, 2, 3, 5, 9, 10, 15]\n",
            "[4, 3, 2, 1, 5]\n"
          ]
        }
      ]
    }
  ]
}