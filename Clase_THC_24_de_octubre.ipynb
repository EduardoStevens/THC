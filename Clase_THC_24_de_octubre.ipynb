{
  "nbformat": 4,
  "nbformat_minor": 0,
  "metadata": {
    "colab": {
      "provenance": []
    },
    "kernelspec": {
      "name": "python3",
      "display_name": "Python 3"
    },
    "language_info": {
      "name": "python"
    }
  },
  "cells": [
    {
      "cell_type": "code",
      "execution_count": 41,
      "metadata": {
        "colab": {
          "base_uri": "https://localhost:8080/"
        },
        "id": "mqm3CTXOz99U",
        "outputId": "b9f06b0e-6187-4d43-bd55-1b1b2edac08a"
      },
      "outputs": [
        {
          "output_type": "stream",
          "name": "stdout",
          "text": [
            "[[[1 2 3]\n",
            "  [4 5 6]]\n",
            "\n",
            " [[1 2 3]\n",
            "  [4 5 6]]]\n",
            "\n",
            "[2 3 4]\n",
            "[4 5 6]\n",
            "7\n",
            "[2 4]\n",
            "[1 4 7]\n",
            "\n",
            "[ 6  7  8  9 10]\n",
            "[4 9]\n",
            "[[3 4 5]]\n"
          ]
        }
      ],
      "source": [
        "import numpy as np\n",
        "arr1=np.array([[[1,2,3],[4,5,6]],[[1,2,3],[4,5,6]]])\n",
        "print(arr1)\n",
        "\n",
        "print()\n",
        "arr2=np.array([1,2,3,4,5,6,7])\n",
        "print(arr2[1:4])\n",
        "print(arr2[-4:-1])\n",
        "print(arr2[-1])\n",
        "print(arr2[1:5:2])\n",
        "print(arr2[::3])\n",
        "print()\n",
        "\n",
        "arr3=np.array([[1,2,3,4,5],[6,7,8,9,10]])\n",
        "print(arr3[1,:])\n",
        "print(arr3[0:2,3])\n",
        "print(arr3[0:1,2:5])\n",
        "\n",
        "print()\n",
        "arr4=np.array([])\n",
        "x=np.where(arr4==4)"
      ]
    },
    {
      "cell_type": "code",
      "source": [
        "import numpy as np\n",
        "x=np.array([1,2,3])\n",
        "y=np.array([4,5,6])\n",
        "suma=x+y\n",
        "print(f\"La suma es {suma}\")\n",
        "resta=x-y\n",
        "print(f\"La resta es {resta}\")\n",
        "mult=x*y\n",
        "print(f\"La multiplicacion es {mult}\")\n",
        "div=x/y\n",
        "print(f\"La division es {div}\")\n",
        "\n",
        "print(f\"Numero pi = {np.pi}\")\n",
        "angulos=np.array([0,np.pi/2,np.pi])\n",
        "coseno=np.cos(angulos)\n",
        "seno=np.sin(angulos)\n",
        "print(\"Loc senos de los angulos son\")\n",
        "print(f\"{seno}\")\n",
        "print(\"Loc cosenos de los angulos son\")\n",
        "print(f\"{coseno}\")"
      ],
      "metadata": {
        "colab": {
          "base_uri": "https://localhost:8080/"
        },
        "id": "_sfrqH-c_5Sl",
        "outputId": "4f162f07-17c4-45ba-b656-b4dbf14b80e5"
      },
      "execution_count": 55,
      "outputs": [
        {
          "output_type": "stream",
          "name": "stdout",
          "text": [
            "La suma es [5 7 9]\n",
            "La resta es [-3 -3 -3]\n",
            "La multiplicacion es [ 4 10 18]\n",
            "La division es [0.25 0.4  0.5 ]\n",
            "Numero pi = 3.141592653589793\n",
            "Loc senos de los angulos son\n",
            "[0.0000000e+00 1.0000000e+00 1.2246468e-16]\n",
            "Loc cosenos de los angulos son\n",
            "[ 1.000000e+00  6.123234e-17 -1.000000e+00]\n"
          ]
        }
      ]
    },
    {
      "cell_type": "code",
      "source": [
        "import numpy as np\n",
        "x=np.array(list(range(1,9)))\n",
        "print(x)\n",
        "matriz=x.reshape(2,4)\n",
        "print(matriz)\n",
        "matriz=matriz.reshape(4,2)\n",
        "print(matriz)\n",
        "x=np.linspace(0,1,4)\n",
        "print(x)\n",
        "print(np.random.uniform(0,1,6))"
      ],
      "metadata": {
        "colab": {
          "base_uri": "https://localhost:8080/"
        },
        "id": "u4M4Ad9JEUQF",
        "outputId": "20cf0868-06bf-4125-b849-d1c8d0345009"
      },
      "execution_count": 63,
      "outputs": [
        {
          "output_type": "stream",
          "name": "stdout",
          "text": [
            "[1 2 3 4 5 6 7 8]\n",
            "[[1 2 3 4]\n",
            " [5 6 7 8]]\n",
            "[[1 2]\n",
            " [3 4]\n",
            " [5 6]\n",
            " [7 8]]\n",
            "[0.         0.33333333 0.66666667 1.        ]\n",
            "[0.2659741  0.5440036  0.85289332 0.39079306 0.40320895 0.33430922]\n"
          ]
        }
      ]
    },
    {
      "cell_type": "code",
      "source": [
        "import numpy as np\n",
        "arr=np.array(range(1,11))\n",
        "print(arr)\n",
        "n=input(\"Escribe un numero del 1 al 10 \")\n",
        "n=int(n)\n",
        "\n",
        "i=0\n",
        "while(i<=4):\n",
        "  r=np.random.randint(1,11)\n",
        "  if r==n:\n",
        "    print(f\"Este es tu numero {n}\")\n",
        "    break\n",
        "  else:\n",
        "    print(f\"Numero encontrado {r}\")\n",
        "  i+=1"
      ],
      "metadata": {
        "colab": {
          "base_uri": "https://localhost:8080/"
        },
        "id": "isiHu71pHU3l",
        "outputId": "90afdba8-d736-4e74-dd39-ca642406dacd"
      },
      "execution_count": 104,
      "outputs": [
        {
          "output_type": "stream",
          "name": "stdout",
          "text": [
            "[ 1  2  3  4  5  6  7  8  9 10]\n",
            "Escribe un numero del 1 al 10 1\n",
            "Numero encontrado 6\n",
            "Numero encontrado 4\n",
            "Numero encontrado 3\n",
            "Este es tu numero 1\n"
          ]
        }
      ]
    }
  ]
}