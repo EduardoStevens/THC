{
  "nbformat": 4,
  "nbformat_minor": 0,
  "metadata": {
    "colab": {
      "provenance": []
    },
    "kernelspec": {
      "name": "python3",
      "display_name": "Python 3"
    },
    "language_info": {
      "name": "python"
    }
  },
  "cells": [
    {
      "cell_type": "code",
      "execution_count": null,
      "metadata": {
        "id": "Lc7sPJ4Zo6_V"
      },
      "outputs": [],
      "source": [
        "thisdict={\n",
        "    \"name\": 'Hamal',\n",
        "    \"model\": \"Mustang\",\n",
        "    \"year\": 1964,\n",
        "    \"year\": 2020\n",
        "}\n"
      ]
    },
    {
      "cell_type": "code",
      "source": [
        "print(thisdict)\n",
        "\n",
        "thisdict2={\n",
        "    \"name\": 'Hamal',\n",
        "    \"model\": \"Mustang\",\n",
        "    \"year\": 1964,\n",
        "    \"year\": 2020\n",
        "}"
      ],
      "metadata": {
        "id": "ttGQ_LPUX40v"
      },
      "execution_count": null,
      "outputs": []
    },
    {
      "cell_type": "code",
      "source": [
        "frutas=(\"naranja\",\"uva\",\"manzana\",\"limon\")\n",
        "\n",
        "for fruta in frutas:\n",
        "    print(fruta)\n",
        "\n",
        "if 'limon' in frutas:\n",
        "    print(\"El limón está en la tupla\")\n",
        "\n",
        "def mi_funcion_1(fname,lname):\n",
        "    print(\"Saludos \" + fname + \", \" + lname + \" te saludo desde la función\")\n",
        "\n",
        "mi_funcion_1(\"Eduardo Stevens\",\"CC\")"
      ],
      "metadata": {
        "id": "MRBhof8MX8HX"
      },
      "execution_count": null,
      "outputs": []
    },
    {
      "cell_type": "code",
      "source": [
        "def mi_funcion_2(*kids):\n",
        "    print(\"El niño menor es \" + kids[2])\n",
        "\n",
        "mi_funcion_2(\"Emil\", \"Tobias\", \"Linus\", \"Alan\")\n",
        "\n",
        "def mi_funcion(**chamaco):\n",
        "    print(\"El apellido es \" +chamaco[\"Ape\"])\n",
        "\n",
        "mi_funcion(nombre=\"Aquiles\", Ape=\"Vapython\")"
      ],
      "metadata": {
        "id": "Kz90hr0yYKxj"
      },
      "execution_count": null,
      "outputs": []
    },
    {
      "cell_type": "code",
      "source": [
        "def sum_vec(a,b):\n",
        "    n=len(a)\n",
        "    c=n*[0.0]\n",
        "    if len(a)==len(b):\n",
        "        for i in range(n):\n",
        "            c[i]=a[i]+b[i]\n",
        "    print(c)\n",
        "\n",
        "a=[10,20,30,40,50]\n",
        "b=[20,30,40,50,60]\n",
        "\n",
        "sum_vec(a,b)"
      ],
      "metadata": {
        "colab": {
          "base_uri": "https://localhost:8080/"
        },
        "id": "2EpgaOnJYOcP",
        "outputId": "bbb50f0d-2453-43c2-ed7e-d607f29342d5"
      },
      "execution_count": 1,
      "outputs": [
        {
          "output_type": "stream",
          "name": "stdout",
          "text": [
            "[30, 50, 70, 90, 110]\n"
          ]
        }
      ]
    }
  ]
}