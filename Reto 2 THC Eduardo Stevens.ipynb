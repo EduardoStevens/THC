print("Reto 2 de THC")
#Ciclo while para mantener el programa abierto hasa que el qusuario escriba salir
while True:
    #Declarcacion de variable "n" para seleccionar el tipo de unidad a convertir 
    n=input("Escriba \"longitud\", \"masa\", \"volumen\" o \"tiempo\" para seleccionar lo que quiere convertir o \"salir\" para terminar el programa ")
    if n == "longitud":
        print('longitud')
        #Ciclo while para mantener el programa abierto hasa que el qusuario escriba atras
        while True:
            #Declaracion de otra variable "n" para seleccionar entre el sistema de unidades a convertir
            n=input("Escriba \"ingles\", \"metrico\" o \"atras\" para elegir el sistema de unidades o volver al menu anterior ")
            if n=="ingles":
                #Ciclo while para mantener el programa abierto hasa que el qusuario escriba atras
                while True:
                    #Declaracion de otra variable "n" para seleccionar la unidad que se va a convertir
                    n=input("Escriba \"pulgadas\",\"pies\", \"yardas\" o \"atras\" para elegir la unidad o volver al menu anterior ")
                    if n=="pies":
                        #Ciclo while para mantener el programa abierto hasa que el qusuario escriba atras
                        while True:
                            #Declaracion de otra variable "n" para seleccionar la unidad a la que se va a convertir
                            n=input("Escriba \"mm\", \"cm\", \"dcm\" \"m\", \"dm\", \"hm\", \"km\", \"pies\", \"yardas\", \"plgadas\" o \"atras\" para elegir la unidad o volver al menu anterior ")
                            #Condicional if para elegir entre las diferentes unidades
                            if n=="pulgadas":
                                #Declaracion de variable s para obtener la cantidad a convertir
                                s=input("Escriba la cantidad a convertir ")
                                #Condicional para evaluar el formato correcto de la cantidad
                                if s.isalpha()==False:
                                    s=float(s)
                                    #Impresion de la cantidad convertida
                                    print("La cantidad en pulgadas es: "  + str(s*12))
                                    break
                                else:
                                    print("Tipo de dato incorrecto, regreso al menu anterior")
                                    break
                            elif n=="yardas":
                                s=input("Escriba la cantidad a convertir ")
                                if s.isalpha()==True:
                                    s=float(s)
                                    print("Tipo de dato incorrecto, regreso al menu anterior")
                                    break
                                else:
                                    s=float(s)
                                    print("La cantidad en yardas es: "  + str(s/3))
                                    break
                            elif n=="mm":
                                s=input("Escriba la cantidad a convertir ")
                                if s.isalpha()==True:
                                    s=float(s)
                                    print("Tipo de dato incorrecto, regreso al menu anterior")
                                    break
                                else:
                                    s=float(s)
                                    print("La cantidad en milimetros es: "  + str((s*30.48)/10))
                                    break
                            elif n=="cm":
                                s=input("Escriba la cantidad a convertir ")
                                if s.isalpha()==True:
                                    s=float(s)
                                    print("Tipo de dato incorrecto, regreso al menu anterior")
                                    break
                                else:
                                    s=float(s)
                                    print("La cantidad en centimetros es: "  + str((s*30.48/100)))
                                    break
                            elif n=="dcm":
                                s=input("Escriba la cantidad a convertir ")
                                if s.isalpha()==True:
                                    s=float(s)
                                    print("Tipo de dato incorrecto, regreso al menu anterior")
                                    break
                                else:
                                    s=float(s)
                                    print("La cantidad en decimetros es: "  + str(s*30.48/1000))
                                    break
                            elif n=="m":
                                s=input("Escriba la cantidad a convertir ")
                                if s.isalpha()==True:
                                    s=float(s)
                                    print("Tipo de dato incorrecto, regreso al menu anterior")
                                    break
                                else:
                                    s=float(s)
                                    print("La cantidad en metros es: "  + str((s*30.48/10000)))
                                    break
                            elif n=="dm":
                                s=input("Escriba la cantidad a convertir ")
                                if s.isalpha()==True:
                                    s=float(s)
                                    print("Tipo de dato incorrecto, regreso al menu anterior")
                                    break
                                else:
                                    s=float(s)
                                print("La cantidad en decametros es: "  + str(s*30.48/100000))
                                break
                            elif n=="hm":
                                s=input("Escriba la cantidad a convertir ")
                                if s.isalpha()==True:
                                    s=float(s)
                                    print("Tipo de dato incorrecto, regreso al menu anterior")
                                    break
                                else:
                                    s=float(s)
                                print("La cantidad en hectometros es: "  + str(s*30.48/1000000))
                                break
                            elif n=="km":
                                s=input("Escriba la cantidad a convertir ")
                                if s.isalpha()==True:
                                    s=float(s)
                                    print("Tipo de dato incorrecto, regreso al menu anterior")
                                    break
                                else:
                                    s=float(s)
                                print("La cantidad en kilometros es: "  + str(s*30.48/10000000))
                                break
                            elif n=="atras":
                                break
                            else:
                                print("Seleccion incorrecta, vuelva a elegir")
                    #Condicional elif para elegir entre las diferentes unidades que se van a convertir
                    elif n=="yardas":
                        #Ciclo while para mantener el programa abierto hasa que el qusuario escriba atras
                        while True:
                            #Declaracion de otra variable "n" para seleccionar la unidad a la que se va a convertir
                            n=input("Escriba \"pulgadas\", \"pies\" o \"atras\" para elegir la unidad o volver al menu anterior ")
                            #Condicional if para elegir entre las diferentes unidades
                            if n=="pulgadas":
                                s=input("Escriba la cantidad a convertir ")
                                if s.isalpha()==True:
                                    s=float(s)
                                    print("Tipo de dato incorrecto, regreso al menu anterior")
                                    break
                                else:
                                    s=float(s)
                                print("La cantidad en pulgadas es: "  + str(s*3*12))
                                break
                            elif n=="pies":
                                s=input("Escriba la cantidad a convertir ")
                                if s.isalpha()==True:
                                    s=float(s)
                                    print("Tipo de dato incorrecto, regreso al menu anterior")
                                    break
                                else:
                                    s=float(s)
                                print("La cantidad en pies es: "  + str(s*3))
                                break
                            elif n=="mm":
                                s=input("Escriba la cantidad a convertir ")
                                if s.isalpha()==True:
                                    s=float(s)
                                    print("Tipo de dato incorrecto, regreso al menu anterior")
                                    break
                                else:
                                    s=float(s)
                                print("La cantidad en milimetros es: "  + str((s*30.48*3)/10))
                                break
                            elif n=="cm":
                                s=input("Escriba la cantidad a convertir ")
                                if s.isalpha()==True:
                                    s=float(s)
                                    print("Tipo de dato incorrecto, regreso al menu anterior")
                                    break
                                else:
                                    s=float(s)
                                print("La cantidad en centimetros es: "  + str((s*30.48*3/100)))
                                break
                            elif n=="dcm":
                                s=input("Escriba la cantidad a convertir ")
                                if s.isalpha()==True:
                                    s=float(s)
                                    print("Tipo de dato incorrecto, regreso al menu anterior")
                                    break
                                else:
                                    s=float(s)
                                print("La cantidad en decimetros es: "  + str(s*30.48*3/1000))
                                break
                            elif n=="m":
                                s=input("Escriba la cantidad a convertir ")
                                if s.isalpha()==True:
                                    s=float(s)
                                    print("Tipo de dato incorrecto, regreso al menu anterior")
                                    break
                                else:
                                    s=float(s)
                                print("La cantidad en metros es: "  + str((s*30.48*3/10000)))
                                break
                            elif n=="dm":
                                s=input("Escriba la cantidad a convertir ")
                                if s.isalpha()==True:
                                    s=float(s)
                                    print("Tipo de dato incorrecto, regreso al menu anterior")
                                    break
                                else:
                                    s=float(s)
                                print("La cantidad en decametros es: "  + str(s*30.48*3/100000))
                                break
                            elif n=="hm":
                                s=input("Escriba la cantidad a convertir ")
                                if s.isalpha()==True:
                                    s=float(s)
                                    print("Tipo de dato incorrecto, regreso al menu anterior")
                                    break
                                else:
                                    s=float(s)
                                print("La cantidad en hectometros es: "  + str(s*30.48*3/1000000))
                                break
                            elif n=="km":
                                s=input("Escriba la cantidad a convertir ")
                                if s.isalpha()==True:
                                    s=float(s)
                                    print("Tipo de dato incorrecto, regreso al menu anterior")
                                    break
                                else:
                                    s=float(s)
                                print("La cantidad en kilometros es: "  + str(s*30.48*3/10000000))
                                break
                            elif n=="atras":
                                break
                            else:
                                print("Seleccion incorrecta, vuelva a elegir")
                    #Condicional elif para elegir entre las diferentes unidades que se van a convertir
                    elif n=="pulgadas":
                        #Ciclo while para mantener el programa abierto hasa que el qusuario escriba atras
                        while True:
                            #Declaracion de otra variable "n" para seleccionar la unidad a la que se va a convertir
                            n=input("Escriba \"pulgadas\", \"pies\" o \"atras\" para elegir la unidad o volver al menu anterior ")
                            #Condicional if para elegir entre las diferentes unidades
                            if n=="pies":
                                s=input("Escriba la cantidad a convertir ")
                                if s.isalpha()==True:
                                    s=float(s)
                                    print("Tipo de dato incorrecto, regreso al menu anterior")
                                    break
                                else:
                                    s=float(s)
                                print("La cantidad en pies es: "  + str(s/12))
                                break
                            elif n=="yardas":
                                s=input("Escriba la cantidad a convertir ")
                                if s.isalpha()==True:
                                    s=float(s)
                                    print("Tipo de dato incorrecto, regreso al menu anterior")
                                    break
                                else:
                                    s=float(s)
                                print("La cantidad en yardas es: "  + str(s/(3*12)))
                                break
                            elif n=="mm":
                                s=input("Escriba la cantidad a convertir ")
                                if s.isalpha()==True:
                                    s=float(s)
                                    print("Tipo de dato incorrecto, regreso al menu anterior")
                                    break
                                else:
                                    s=float(s)
                                print("La cantidad en milimetros es: "  + str((s*2.54)*10))
                                break
                            elif n=="cm":
                                s=input("Escriba la cantidad a convertir ")
                                if s.isalpha()==True:
                                    s=float(s)
                                    print("Tipo de dato incorrecto, regreso al menu anterior")
                                    break
                                else:
                                    s=float(s)
                                print("La cantidad en centimetros es: "  + str(s*2.54))
                                break
                            elif n=="dcm":
                                s=input("Escriba la cantidad a convertir ")
                                if s.isalpha()==True:
                                    s=float(s)
                                    print("Tipo de dato incorrecto, regreso al menu anterior")
                                    break
                                else:
                                    s=float(s)
                                print("La cantidad en decimetros es: "  + str((s*2.54)/10))
                                break
                            elif n=="m":
                                s=input("Escriba la cantidad a convertir ")
                                if s.isalpha()==True:
                                    s=float(s)
                                    print("Tipo de dato incorrecto, regreso al menu anterior")
                                    break
                                else:
                                    s=float(s)
                                print("La cantidad en metros es: "  + str((s*2.54)/100))
                                break
                            elif n=="dm":
                                s=input("Escriba la cantidad a convertir ")
                                if s.isalpha()==True:
                                    s=float(s)
                                    print("Tipo de dato incorrecto, regreso al menu anterior")
                                    break
                                else:
                                    s=float(s)
                                print("La cantidad en decametros es: "  + str((s*2.54)/1000))
                                break
                            elif n=="hm":
                                s=input("Escriba la cantidad a convertir ")
                                if s.isalpha()==True:
                                    s=float(s)
                                    print("Tipo de dato incorrecto, regreso al menu anterior")
                                    break
                                else:
                                    s=float(s)
                                print("La cantidad en hectometros es: "  + str((s*2.54)/10000))
                                break
                            elif n=="km":
                                s=input("Escriba la cantidad a convertir ")
                                if s.isalpha()==True:
                                    s=float(s)
                                    print("Tipo de dato incorrecto, regreso al menu anterior")
                                    break
                                else:
                                    s=float(s)
                                print("La cantidad en kilometros es: "  + str((s*2.54)/100000))
                                break
                            elif n=="atras":
                                break
                            else:
                                print("Seleccion incorrecta, vuelva a elegir")
                    elif n=="atras":
                        break
                    else:
                        print("Seleccion incorrecta, vuelva a elegir")
            #Declaracion de otra variable "n" para seleccionar entre el sistema de unidades a convertir
            elif n=="metrico":
                #Ciclo while para mantener el programa abierto hasa que el qusuario escriba atras
                while True:
                    #Declaracion de otra variable "n" para seleccionar la unidad que se va a convertir
                    n=input("Escriba \"mm\", \"cm\", \"dcm\" \"m\", \"dm\", \"hm\", \"km\" o \"atras\" para elegir la unidad o volver al menu anterior ")
                    if n=="mm":
                        #Ciclo while para mantener el programa abierto hasa que el qusuario escriba atras
                        while True:
                            #Declaracion de otra variable "n" para seleccionar la unidad a la que se va a convertir
                            n=input("Escriba \"cm\", \"dcm\" \"m\", \"dm\", \"hm\", \"km\", \"pulgadas\", \"pies\", \"yardas\" o \"atras\" para elegir la unidad o volver al menu anterior ")
                            #Condicional if para elegir entre las diferentes unidades
                            if n=="cm":
                                #Declaracion de variable s para obtener la cantidad a convertir
                                s=input("Escriba la cantidad a convertir ")
                                #Condicional para evaluar el formato correcto de la cantidad
                                if s.isalpha()==True:
                                    s=float(s)
                                    print("Tipo de dato incorrecto, regreso al menu anterior")
                                    break
                                else:
                                    s=float(s)
                                #Impresion de la cantidad convertida
                                print("La cantidad en centimetros es: "  + str(s*10))
                                break
                            elif n=="dcm":
                                s=input("Escriba la cantidad a convertir ")
                                if s.isalpha()==True:
                                    s=float(s)
                                    print("Tipo de dato incorrecto, regreso al menu anterior")
                                    break
                                else:
                                    s=float(s)
                                print("La cantidad en decimetros es: "  + str(s*100))
                                break
                            elif n=="m":
                                s=input("Escriba la cantidad a convertir ")
                                if s.isalpha()==True:
                                    s=float(s)
                                    print("Tipo de dato incorrecto, regreso al menu anterior")
                                    break
                                else:
                                    s=float(s)
                                print("La cantidad en metros es: "  + str(s*1000))
                                break
                            elif n=="dm":
                                s=input("Escriba la cantidad a convertir ")
                                if s.isalpha()==True:
                                    s=float(s)
                                    print("Tipo de dato incorrecto, regreso al menu anterior")
                                    break
                                else:
                                    s=float(s)
                                print("La cantidad en decametros es: "  + str(s*10000))
                                break
                            elif n=="hm":
                                s=input("Escriba la cantidad a convertir ")
                                if s.isalpha()==True:
                                    s=float(s)
                                    print("Tipo de dato incorrecto, regreso al menu anterior")
                                    break
                                else:
                                    s=float(s)
                                print("La cantidad en hectometros es: "  + str(s*100000))
                                break
                            elif n=="km":
                                s=input("Escriba la cantidad a convertir ")
                                if s.isalpha()==True:
                                    s=float(s)
                                    print("Tipo de dato incorrecto, regreso al menu anterior")
                                    break
                                else:
                                    s=float(s)
                                print("La cantidad en kilometros es: "  + str(s*1000000))
                                break
                            elif n=="pulgadas":
                                s=input("Escriba la cantidad a convertir ")
                                if s.isalpha()==True:
                                    s=float(s)
                                    print("Tipo de dato incorrecto, regreso al menu anterior")
                                    break
                                else:
                                    s=float(s)
                                print("La cantidad en pulgadas es: "  + str((s/25.4)))
                                break
                            elif n=="pies":
                                s=input("Escriba la cantidad a convertir ")
                                if s.isalpha()==True:
                                    s=float(s)
                                    print("Tipo de dato incorrecto, regreso al menu anterior")
                                    break
                                else:
                                    s=float(s)
                                print("La cantidad en pies es: "  + str((s*10)/(30.48)))
                                break
                            elif n=="yardas":
                                s=input("Escriba la cantidad a convertir ")
                                if s.isalpha()==True:
                                    s=float(s)
                                    print("Tipo de dato incorrecto, regreso al menu anterior")
                                    break
                                else:
                                    s=float(s)
                                print("La cantidad en yardas es: "  + str((s*10)/(30.48*3)))
                                break
                            elif n=="atras":
                                break
                            else:
                                print("Seleccion incorrecta, vuelva a elegir")
                    elif n=="cm":
                        while True:
                            n=input("Escriba \"cm\", \"dcm\" \"m\", \"dm\", \"hm\", \"km\", \"pulgadas\", \"pies\", \"yardas\" o \"atras\" para elegir la unidad o volver al menu anterior ")
                            if n=="mm":
                                s=input("Escriba la cantidad a convertir ")
                                if s.isalpha()==True:
                                    s=float(s)
                                    print("Tipo de dato incorrecto, regreso al menu anterior")
                                    break
                                else:
                                    s=float(s)
                                print("La cantidad en milimetros es: "  + str(s/10))
                                break
                            elif n=="dcm":
                                s=input("Escriba la cantidad a convertir ")
                                if s.isalpha()==True:
                                    s=float(s)
                                    print("Tipo de dato incorrecto, regreso al menu anterior")
                                    break
                                else:
                                    s=float(s)
                                print("La cantidad en decimetros es: "  + str(s*10))
                                break
                            elif n=="m":
                                s=input("Escriba la cantidad a convertir ")
                                if s.isalpha()==True:
                                    s=float(s)
                                    print("Tipo de dato incorrecto, regreso al menu anterior")
                                    break
                                else:
                                    s=float(s)
                                print("La cantidad en metros es: "  + str(s*100))
                                break
                            elif n=="dm":
                                s=input("Escriba la cantidad a convertir ")
                                if s.isalpha()==True:
                                    s=float(s)
                                    print("Tipo de dato incorrecto, regreso al menu anterior")
                                    break
                                else:
                                    s=float(s)
                                print("La cantidad en decametros es: "  + str(s*1000))
                                break
                            elif n=="hm":
                                s=input("Escriba la cantidad a convertir ")
                                if s.isalpha()==True:
                                    s=float(s)
                                    print("Tipo de dato incorrecto, regreso al menu anterior")
                                    break
                                else:
                                    s=float(s)
                                print("La cantidad en hectometros es: "  + str(s*10000))
                                break
                            elif n=="km":
                                s=input("Escriba la cantidad a convertir ")
                                if s.isalpha()==True:
                                    s=float(s)
                                    print("Tipo de dato incorrecto, regreso al menu anterior")
                                    break
                                else:
                                    s=float(s)
                                print("La cantidad en kilometros es: "  + str(s*100000))
                                break
                            elif n=="pulgadas":
                                s=input("Escriba la cantidad a convertir ")
                                if s.isalpha()==True:
                                    s=float(s)
                                    print("Tipo de dato incorrecto, regreso al menu anterior")
                                    break
                                else:
                                    s=float(s)
                                print("La cantidad en pulgadas es: "  + str((s/(25.4))/10))
                                break
                            elif n=="pies":
                                s=input("Escriba la cantidad a convertir ")
                                if s.isalpha()==True:
                                    s=float(s)
                                    print("Tipo de dato incorrecto, regreso al menu anterior")
                                    break
                                else:
                                    s=float(s)
                                print("La cantidad en pies es: "  + str((s)/(30.48)))
                                break
                            elif n=="yardas":
                                s=input("Escriba la cantidad a convertir ")
                                if s.isalpha()==True:
                                    s=float(s)
                                    print("Tipo de dato incorrecto, regreso al menu anterior")
                                    break
                                else:
                                    s=float(s)
                                print("La cantidad en yardas es: "  + str(((s)/(30.48*3))))
                                break
                            elif n=="atras":
                                break
                            else:
                                print("Seleccion incorrecta, vuelva a elegir")
                    elif n=="dcm":
                        while True:
                            n=input("Escriba \"cm\", \"dcm\" \"m\", \"dm\", \"hm\", \"km\", \"pulgadas\", \"pies\", \"yardas\" o \"atras\" para elegir la unidad o volver al menu anterior ")
                            if n=="mm":
                                s=input("Escriba la cantidad a convertir ")
                                if s.isalpha()==True:
                                    s=float(s)
                                    print("Tipo de dato incorrecto, regreso al menu anterior")
                                    break
                                else:
                                    s=float(s)
                                print("La cantidad en milimetros es: "  + str(s/100))
                                break
                            elif n=="cm":
                                s=input("Escriba la cantidad a convertir ")
                                if s.isalpha()==True:
                                    s=float(s)
                                    print("Tipo de dato incorrecto, regreso al menu anterior")
                                    break
                                else:
                                    s=float(s)
                                print("La cantidad en centimetros es: "  + str(s/10))
                                break
                            elif n=="m":
                                s=input("Escriba la cantidad a convertir ")
                                if s.isalpha()==True:
                                    s=float(s)
                                    print("Tipo de dato incorrecto, regreso al menu anterior")
                                    break
                                else:
                                    s=float(s)
                                print("La cantidad en metros es: "  + str(s*10))
                                break
                            elif n=="dm":
                                s=input("Escriba la cantidad a convertir ")
                                if s.isalpha()==True:
                                    s=float(s)
                                    print("Tipo de dato incorrecto, regreso al menu anterior")
                                    break
                                else:
                                    s=float(s)
                                print("La cantidad en decametros es: "  + str(s*100))
                                break
                            elif n=="hm":
                                s=input("Escriba la cantidad a convertir ")
                                if s.isalpha()==True:
                                    s=float(s)
                                    print("Tipo de dato incorrecto, regreso al menu anterior")
                                    break
                                else:
                                    s=float(s)
                                print("La cantidad en hectometros es: "  + str(s*1000))
                                break
                            elif n=="km":
                                s=input("Escriba la cantidad a convertir ")
                                if s.isalpha()==True:
                                    s=float(s)
                                    print("Tipo de dato incorrecto, regreso al menu anterior")
                                    break
                                else:
                                    s=float(s)
                                print("La cantidad en kilometros es: "  + str(s*10000))
                                break
                            elif n=="pulgadas":
                                s=input("Escriba la cantidad a convertir ")
                                if s.isalpha()==True:
                                    s=float(s)
                                    print("Tipo de dato incorrecto, regreso al menu anterior")
                                    break
                                else:
                                    s=float(s)
                                print("La cantidad en pulgadas es: "  + str(((s/25.4)/100)))
                                break
                            elif n=="pies":
                                s=input("Escriba la cantidad a convertir ")
                                if s.isalpha()==True:
                                    s=float(s)
                                    print("Tipo de dato incorrecto, regreso al menu anterior")
                                    break
                                else:
                                    s=float(s)
                                print("La cantidad en pies es: "  + str(((s)/(30.48))/10))
                                break
                            elif n=="yardas":
                                s=input("Escriba la cantidad a convertir ")
                                if s.isalpha()==True:
                                    s=float(s)
                                    print("Tipo de dato incorrecto, regreso al menu anterior")
                                    break
                                else:
                                    s=float(s)
                                print("La cantidad en yardas es: "  + str(((s)/(30.48*3))/10))
                                break
                            elif n=="atras":
                                break
                            else:
                                print("Seleccion incorrecta, vuelva a elegir")
                    elif n=="m":
                        while True:
                            n=input("Escriba \"cm\", \"dcm\" \"m\", \"dm\", \"hm\", \"km\", \"pulgadas\", \"pies\", \"yardas\" o \"atras\" para elegir la unidad o volver al menu anterior ")
                            if n=="mm":
                                s=input("Escriba la cantidad a convertir ")
                                if s.isalpha()==True:
                                    s=float(s)
                                    print("Tipo de dato incorrecto, regreso al menu anterior")
                                    break
                                else:
                                    s=float(s)
                                print("La cantidad en milimetros es: "  + str(s/1000))
                                break
                            elif n=="cm":
                                s=input("Escriba la cantidad a convertir ")
                                if s.isalpha()==True:
                                    s=float(s)
                                    print("Tipo de dato incorrecto, regreso al menu anterior")
                                    break
                                else:
                                    s=float(s)
                                print("La cantidad en centimetros es: "  + str(s/100))
                                break
                            elif n=="dcm":
                                s=input("Escriba la cantidad a convertir ")
                                if s.isalpha()==True:
                                    s=float(s)
                                    print("Tipo de dato incorrecto, regreso al menu anterior")
                                    break
                                else:
                                    s=float(s)
                                print("La cantidad en decimetros es: "  + str(s*10))
                                break
                            elif n=="dm":
                                s=input("Escriba la cantidad a convertir ")
                                if s.isalpha()==True:
                                    s=float(s)
                                    print("Tipo de dato incorrecto, regreso al menu anterior")
                                    break
                                else:
                                    s=float(s)
                                print("La cantidad en decametros es: "  + str(s*10))
                                break
                            elif n=="hm":
                                s=input("Escriba la cantidad a convertir ")
                                if s.isalpha()==True:
                                    s=float(s)
                                    print("Tipo de dato incorrecto, regreso al menu anterior")
                                    break
                                else:
                                    s=float(s)
                                print("La cantidad en hectometros es: "  + str(s*100))
                                break
                            elif n=="km":
                                s=input("Escriba la cantidad a convertir ")
                                if s.isalpha()==True:
                                    s=float(s)
                                    print("Tipo de dato incorrecto, regreso al menu anterior")
                                    break
                                else:
                                    s=float(s)
                                print("La cantidad en kilometros es: "  + str(s*1000))
                                break
                            elif n=="pulgadas":
                                s=input("Escriba la cantidad a convertir ")
                                if s.isalpha()==True:
                                    s=float(s)
                                    print("Tipo de dato incorrecto, regreso al menu anterior")
                                    break
                                else:
                                    s=float(s)
                                print("La cantidad en pulgadas es: "  + str(((s/25.4)/1000)))
                                break
                            elif n=="pies":
                                s=input("Escriba la cantidad a convertir ")
                                if s.isalpha()==True:
                                    s=float(s)
                                    print("Tipo de dato incorrecto, regreso al menu anterior")
                                    break
                                else:
                                    s=float(s)
                                print("La cantidad en pies es: "  + str(((s)/(30.48))/100))
                                break
                            elif n=="yardas":
                                s=input("Escriba la cantidad a convertir ")
                                if s.isalpha()==True:
                                    s=float(s)
                                    print("Tipo de dato incorrecto, regreso al menu anterior")
                                    break
                                else:
                                    s=float(s)
                                print("La cantidad en yardas es: "  + str(((s)/(30.48*3))/100))
                                break
                            elif n=="atras":
                                break
                            else:
                                print("Seleccion incorrecta, vuelva a elegir")
                    elif n=="dm":
                        while True:
                            n=input("Escriba \"cm\", \"dcm\" \"m\", \"dm\", \"hm\", \"km\", \"pulgadas\", \"pies\", \"yardas\" o \"atras\" para elegir la unidad o volver al menu anterior ")
                            if n=="mm":
                                s=input("Escriba la cantidad a convertir ")
                                if s.isalpha()==True:
                                    s=float(s)
                                    print("Tipo de dato incorrecto, regreso al menu anterior")
                                    break
                                else:
                                    s=float(s)
                                print("La cantidad en milimetros es: "  + str(s/10000))
                                break
                            elif n=="cm":
                                s=input("Escriba la cantidad a convertir ")
                                if s.isalpha()==True:
                                    s=float(s)
                                    print("Tipo de dato incorrecto, regreso al menu anterior")
                                    break
                                else:
                                    s=float(s)
                                print("La cantidad en centimetros es: "  + str(s/1000))
                                break
                            elif n=="dcm":
                                s=input("Escriba la cantidad a convertir ")
                                if s.isalpha()==True:
                                    s=float(s)
                                    print("Tipo de dato incorrecto, regreso al menu anterior")
                                    break
                                else:
                                    s=float(s)
                                print("La cantidad en decimetros es: "  + str(s/100))
                                break
                            elif n=="m":
                                s=input("Escriba la cantidad a convertir ")
                                if s.isalpha()==True:
                                    s=float(s)
                                    print("Tipo de dato incorrecto, regreso al menu anterior")
                                    break
                                else:
                                    s=float(s)
                                print("La cantidad en metros es: "  + str(s/10))
                                break
                            elif n=="hm":
                                s=input("Escriba la cantidad a convertir ")
                                if s.isalpha()==True:
                                    s=float(s)
                                    print("Tipo de dato incorrecto, regreso al menu anterior")
                                    break
                                else:
                                    s=float(s)
                                print("La cantidad en hectometros es: "  + str(s*10))
                                break
                            elif n=="km":
                                s=input("Escriba la cantidad a convertir ")
                                if s.isalpha()==True:
                                    s=float(s)
                                    print("Tipo de dato incorrecto, regreso al menu anterior")
                                    break
                                else:
                                    s=float(s)
                                print("La cantidad en kilometros es: "  + str(s*100))
                                break
                            elif n=="pulgadas":
                                s=input("Escriba la cantidad a convertir ")
                                if s.isalpha()==True:
                                    s=float(s)
                                    print("Tipo de dato incorrecto, regreso al menu anterior")
                                    break
                                else:
                                    s=float(s)
                                print("La cantidad en pulgadas es: "  + str(((s/25.4)/10000)))
                                break
                            elif n=="pies":
                                s=input("Escriba la cantidad a convertir ")
                                if s.isalpha()==True:
                                    s=float(s)
                                    print("Tipo de dato incorrecto, regreso al menu anterior")
                                    break
                                else:
                                    s=float(s)
                                print("La cantidad en pies es: "  + str(((s)/(30.48))/1000))
                                break
                            elif n=="yardas":
                                s=input("Escriba la cantidad a convertir ")
                                if s.isalpha()==True:
                                    s=float(s)
                                    print("Tipo de dato incorrecto, regreso al menu anterior")
                                    break
                                else:
                                    s=float(s)
                                print("La cantidad en yardas es: "  + str(((s)/(30.48*3))/1000))
                                break
                            elif n=="atras":
                                break
                            else:
                                print("Seleccion incorrecta, vuelva a elegir")
                    elif n=="hm":
                        while True:
                            n=input("Escriba \"cm\", \"dcm\" \"m\", \"dm\", \"hm\", \"km\", \"pulgadas\", \"pies\", \"yardas\" o \"atras\" para elegir la unidad o volver al menu anterior ")
                            if n=="mm":
                                s=input("Escriba la cantidad a convertir ")
                                if s.isalpha()==True:
                                    s=float(s)
                                    print("Tipo de dato incorrecto, regreso al menu anterior")
                                    break
                                else:
                                    s=float(s)
                                print("La cantidad en milimetros es: "  + str(s/100000))
                                break
                            elif n=="cm":
                                s=input("Escriba la cantidad a convertir ")
                                if s.isalpha()==True:
                                    s=float(s)
                                    print("Tipo de dato incorrecto, regreso al menu anterior")
                                    break
                                else:
                                    s=float(s)
                                print("La cantidad en centimetros es: "  + str(s/10000))
                                break
                            elif n=="dcm":
                                s=input("Escriba la cantidad a convertir ")
                                if s.isalpha()==True:
                                    s=float(s)
                                    print("Tipo de dato incorrecto, regreso al menu anterior")
                                    break
                                else:
                                    s=float(s)
                                print("La cantidad en decimetros es: "  + str(s/1000))
                                break
                            elif n=="m":
                                s=input("Escriba la cantidad a convertir ")
                                if s.isalpha()==True:
                                    s=float(s)
                                    print("Tipo de dato incorrecto, regreso al menu anterior")
                                    break
                                else:
                                    s=float(s)
                                print("La cantidad en metros es: "  + str(s/100))
                                break
                            elif n=="dm":
                                s=input("Escriba la cantidad a convertir ")
                                if s.isalpha()==True:
                                    s=float(s)
                                    print("Tipo de dato incorrecto, regreso al menu anterior")
                                    break
                                else:
                                    s=float(s)
                                print("La cantidad en decametros es: "  + str(s/10))
                                break
                            elif n=="km":
                                s=input("Escriba la cantidad a convertir ")
                                if s.isalpha()==True:
                                    s=float(s)
                                    print("Tipo de dato incorrecto, regreso al menu anterior")
                                    break
                                else:
                                    s=float(s)
                                print("La cantidad en kilometros es: "  + str(s*10))
                                break
                            elif n=="pulgadas":
                                s=input("Escriba la cantidad a convertir ")
                                if s.isalpha()==True:
                                    s=float(s)
                                    print("Tipo de dato incorrecto, regreso al menu anterior")
                                    break
                                else:
                                    s=float(s)
                                print("La cantidad en pulgadas es: "  + str(((s/25.4)/100000)))
                                break
                            elif n=="pies":
                                s=input("Escriba la cantidad a convertir ")
                                if s.isalpha()==True:
                                    s=float(s)
                                    print("Tipo de dato incorrecto, regreso al menu anterior")
                                    break
                                else:
                                    s=float(s)
                                print("La cantidad en pies es: "  + str(((s)/(30.48))/10000))
                                break
                            elif n=="yardas":
                                s=input("Escriba la cantidad a convertir ")
                                if s.isalpha()==True:
                                    s=float(s)
                                    print("Tipo de dato incorrecto, regreso al menu anterior")
                                    break
                                else:
                                    s=float(s)
                                print("La cantidad en yardas es: "  + str(((s)/(30.48*3))/10000))
                                break
                            elif n=="atras":
                                break
                            else:
                                print("Seleccion incorrecta, vuelva a elegir")
                    elif n=="km":
                        while True:
                            n=input("Escriba \"cm\", \"dcm\" \"m\", \"dm\", \"hm\", \"km\", \"pulgadas\", \"pies\", \"yardas\" o \"atras\" para elegir la unidad o volver al menu anterior ")
                            if n=="mm":
                                s=input("Escriba la cantidad a convertir ")
                                if s.isalpha()==True:
                                    s=float(s)
                                    print("Tipo de dato incorrecto, regreso al menu anterior")
                                    break
                                else:
                                    s=float(s)
                                print("La cantidad en milimetros es: "  + str(s/1000000))
                                break
                            elif n=="cm":
                                s=input("Escriba la cantidad a convertir ")
                                if s.isalpha()==True:
                                    s=float(s)
                                    print("Tipo de dato incorrecto, regreso al menu anterior")
                                    break
                                else:
                                    s=float(s)
                                print("La cantidad en centimetros es: "  + str(s/100000))
                                break
                            elif n=="dcm":
                                s=input("Escriba la cantidad a convertir ")
                                if s.isalpha()==True:
                                    s=float(s)
                                    print("Tipo de dato incorrecto, regreso al menu anterior")
                                    break
                                else:
                                    s=float(s)
                                print("La cantidad en decimetros es: "  + str(s/10000))
                                break
                            elif n=="m":
                                s=input("Escriba la cantidad a convertir ")
                                if s.isalpha()==True:
                                    s=float(s)
                                    print("Tipo de dato incorrecto, regreso al menu anterior")
                                    break
                                else:
                                    s=float(s)
                                print("La cantidad en metros es: "  + str(s/1000))
                                break
                            elif n=="dm":
                                s=input("Escriba la cantidad a convertir ")
                                if s.isalpha()==True:
                                    s=float(s)
                                    print("Tipo de dato incorrecto, regreso al menu anterior")
                                    break
                                else:
                                    s=float(s)
                                print("La cantidad en decametros es: "  + str(s/100))
                                break
                            elif n=="hm":
                                s=input("Escriba la cantidad a convertir ")
                                if s.isalpha()==True:
                                    s=float(s)
                                    print("Tipo de dato incorrecto, regreso al menu anterior")
                                    break
                                else:
                                    s=float(s)
                                print("La cantidad en hectometros es: "  + str(s/10))
                                break
                            elif n=="pulgadas":
                                s=input("Escriba la cantidad a convertir ")
                                if s.isalpha()==True:
                                    s=float(s)
                                    print("Tipo de dato incorrecto, regreso al menu anterior")
                                    break
                                else:
                                    s=float(s)
                                print("La cantidad en pulgadas es: "  + str(((s/25.4)/1000000)))
                                break
                            elif n=="pies":
                                s=input("Escriba la cantidad a convertir ")
                                if s.isalpha()==True:
                                    s=float(s)
                                    print("Tipo de dato incorrecto, regreso al menu anterior")
                                    break
                                else:
                                    s=float(s)
                                print("La cantidad en pies es: "  + str(((s)/(30.48))/100000))
                                break
                            elif n=="yardas":
                                s=input("Escriba la cantidad a convertir ")
                                if s.isalpha()==True:
                                    s=float(s)
                                    print("Tipo de dato incorrecto, regreso al menu anterior")
                                    break
                                else:
                                    s=float(s)
                                print("La cantidad en yardas es: "  + str(((s)/(30.48*3))/100000))
                                break
                            elif n=="atras":
                                break
                            else:
                                print("Seleccion incorrecta, vuelva a elegir")
                    elif n=="atras":
                        break
                    else:
                        print("Seleccion incorrecta, vuelva a elegir")
            elif n=="atras":
                break
            else:
                print("Seleccion incorrecta, vuelva a elegir")
    #Condicional elif para seleccionar el tipo de unidad a convertir               
    elif n == "masa":
        #Ciclo while para mantener en la seleccion al usuario hasta ingresar el comando atras
        while True:
            #Declaracion de de variable n para elegir el sistema de unidades
            n=input("Escriba \"ingles\", \"metrico\" o \"atras\" para elegir el sistema de unidades o volver al menu anterior ")
            #Condicional if para elegir el sistema de unidades
            if n=="ingles":
                #Ciclo while para mantener en la seleccion al usuario hasta ingresar el comando atras
                while True:
                    #Declaracion de otra variable n para elegir la unidad a convertir
                    n=input("Escriba \"oz\", \"lb\", \"ton\" o \"atras\" para elegir el sistema de unidades o volver al menu anterior ")
                    #Condicional if para elegir la unidad a convertir
                    if n=="oz":
                        #Ciclo while para mantener en la seleccion al usuario hasta ingresar el comando atras
                        while True:
                            #Declaracion de otra variable n para elegir la unidad a la que se va a aconvertir
                            n=input("Escriba \"mg\", \"cg\", \"dcg\" \"g\", \"dg\", \"hg\", \"kg\", \"lb\", \"ton\" o \"atras\" para elegir la unidad o volver al menu anterior ")
                            #Condicional if para seleccionar la unidad a la que se va a convertir 
                            if n=="lb":
                                s=input("Escriba la cantidad a convertir ")
                                #Declaracion de variable s para obtener la cantidad a convertir
                                if s.isalpha()==True:
                                    s=float(s)
                                    print("Tipo de dato incorrecto, regreso al menu anterior")
                                    break
                                else:
                                    s=float(s)
                                #Impresion de la cantidad convertida
                                print("La cantidad en libras es: "  + str(s/16))
                                break
                            elif n=="ton":
                                s=input("Escriba la cantidad a convertir ")
                                if s.isalpha()==True:
                                    s=float(s)
                                    print("Tipo de dato incorrecto, regreso al menu anterior")
                                    break
                                else:
                                    s=float(s)
                                print("La cantidad en toneladas es: "  + str(s/(16*2000)))
                                break
                            elif n=="mg":
                                s=input("Escriba la cantidad a convertir ")
                                if s.isalpha()==True:
                                    s=float(s)
                                    print("Tipo de dato incorrecto, regreso al menu anterior")
                                    break
                                else:
                                    s=float(s)
                                print("La cantidad en miligramos es: "  + str((s*28.3459)*1000))
                                break
                            elif n=="cg":
                                s=input("Escriba la cantidad a convertir ")
                                if s.isalpha()==True:
                                    s=float(s)
                                    print("Tipo de dato incorrecto, regreso al menu anterior")
                                    break
                                else:
                                    s=float(s)
                                print("La cantidad en centigrmaos es: "  + str((s*28.3459)*100))
                                break
                            elif n=="dcg":
                                s=input("Escriba la cantidad a convertir ")
                                if s.isalpha()==True:
                                    s=float(s)
                                    print("Tipo de dato incorrecto, regreso al menu anterior")
                                    break
                                else:
                                    s=float(s)
                                print("La cantidad en decigramos es: "  + str((s*28.3459)*10))
                                break
                            elif n=="g":
                                s=input("Escriba la cantidad a convertir ")
                                if s.isalpha()==True:
                                    s=float(s)
                                    print("Tipo de dato incorrecto, regreso al menu anterior")
                                    break
                                else:
                                    s=float(s)
                                print("La cantidad en gramos es: "  + str(s*28.3459))
                                break
                            elif n=="dg":
                                s=input("Escriba la cantidad a convertir ")
                                if s.isalpha()==True:
                                    s=float(s)
                                    print("Tipo de dato incorrecto, regreso al menu anterior")
                                    break
                                else:
                                    s=float(s)
                                print("La cantidad en decagramos es: "  + str((s*28.3459)/10))
                                break
                            elif n=="hg":
                                s=input("Escriba la cantidad a convertir ")
                                if s.isalpha()==True:
                                    s=float(s)
                                    print("Tipo de dato incorrecto, regreso al menu anterior")
                                    break
                                else:
                                    s=float(s)
                                print("La cantidad en hectogramos es: "  + str((s*28.3459)/100))
                                break
                            elif n=="kg":
                                s=input("Escriba la cantidad a convertir ")
                                if s.isalpha()==True:
                                    s=float(s)
                                    print("Tipo de dato incorrecto, regreso al menu anterior")
                                    break
                                else:
                                    s=float(s)
                                print("La cantidad en kilogramos es: "  + str((s*28.3459)/1000))
                                break
                            elif n=="atras":
                                break
                            else:
                                print("Seleccion incorrecta, vuelva a elegir")
                    elif n=="lb":
                        while True:
                            n=input("Escriba \"mg\", \"cg\", \"dcg\" \"g\", \"dg\", \"hg\", \"kg\", \"lb\", \"ton\" o \"atras\" para elegir la unidad o volver al menu anterior ")
                            if n=="oz":
                                s=input("Escriba la cantidad a convertir ")
                                if s.isalpha()==True:
                                    s=float(s)
                                    print("Tipo de dato incorrecto, regreso al menu anterior")
                                    break
                                else:
                                    s=float(s)
                                print("La cantidad en onzas es: "  + str(s*16))
                                break
                            elif n=="ton":
                                s=input("Escriba la cantidad a convertir ")
                                if s.isalpha()==True:
                                    s=float(s)
                                    print("Tipo de dato incorrecto, regreso al menu anterior")
                                    break
                                else:
                                    s=float(s)
                                print("La cantidad en toneladas es: "  + str(s/2000))
                                break
                            elif n=="mg":
                                s=input("Escriba la cantidad a convertir ")
                                if s.isalpha()==True:
                                    s=float(s)
                                    print("Tipo de dato incorrecto, regreso al menu anterior")
                                    break
                                else:
                                    s=float(s)
                                print("La cantidad en miligramos es: "  + str((s*453.592)*1000))
                                break
                            elif n=="cg":
                                s=input("Escriba la cantidad a convertir ")
                                if s.isalpha()==True:
                                    s=float(s)
                                    print("Tipo de dato incorrecto, regreso al menu anterior")
                                    break
                                else:
                                    s=float(s)
                                print("La cantidad en centigrmaos es: "  + str((s*453.592)*100))
                                break
                            elif n=="dcg":
                                s=input("Escriba la cantidad a convertir ")
                                if s.isalpha()==True:
                                    s=float(s)
                                    print("Tipo de dato incorrecto, regreso al menu anterior")
                                    break
                                else:
                                    s=float(s)
                                print("La cantidad en decigramos es: "  + str((s*453.592)*10))
                                break
                            elif n=="g":
                                s=input("Escriba la cantidad a convertir ")
                                if s.isalpha()==True:
                                    s=float(s)
                                    print("Tipo de dato incorrecto, regreso al menu anterior")
                                    break
                                else:
                                    s=float(s)
                                print("La cantidad en gramos es: "  + str(s*453.592))
                                break
                            elif n=="dg":
                                s=input("Escriba la cantidad a convertir ")
                                if s.isalpha()==True:
                                    s=float(s)
                                    print("Tipo de dato incorrecto, regreso al menu anterior")
                                    break
                                else:
                                    s=float(s)
                                print("La cantidad en decagramos es: "  + str((s*453.592)/10))
                                break
                            elif n=="hg":
                                s=input("Escriba la cantidad a convertir ")
                                if s.isalpha()==True:
                                    s=float(s)
                                    print("Tipo de dato incorrecto, regreso al menu anterior")
                                    break
                                else:
                                    s=float(s)
                                print("La cantidad en hectogramos es: "  + str((s*453.592)/100))
                                break
                            elif n=="kg":
                                s=input("Escriba la cantidad a convertir ")
                                if s.isalpha()==True:
                                    s=float(s)
                                    print("Tipo de dato incorrecto, regreso al menu anterior")
                                    break
                                else:
                                    s=float(s)
                                print("La cantidad en kilogramos es: "  + str((s*453.592)/1000))
                                break
                            elif n=="atras":
                                break
                            else:
                                print("Seleccion incorrecta, vuelva a elegir")
                    elif n=="ton":
                        while True:
                            n=input("Escriba \"mg\", \"cg\", \"dcg\" \"g\", \"dg\", \"hg\", \"kg\", \"lb\", \"ton\" o \"atras\" para elegir la unidad o volver al menu anterior ")
                            if n=="oz":
                                s=input("Escriba la cantidad a convertir ")
                                if s.isalpha()==True:
                                    s=float(s)
                                    print("Tipo de dato incorrecto, regreso al menu anterior")
                                    break
                                else:
                                    s=float(s)
                                print("La cantidad en onzas es: "  + str(s*16*2000))
                                break
                            elif n=="ton":
                                s=input("Escriba la cantidad a convertir ")
                                if s.isalpha()==True:
                                    s=float(s)
                                    print("Tipo de dato incorrecto, regreso al menu anterior")
                                    break
                                else:
                                    s=float(s)
                                print("La cantidad en toneladas es: "  + str(s*2000))
                                break
                            elif n=="mg":
                                s=input("Escriba la cantidad a convertir ")
                                if s.isalpha()==True:
                                    s=float(s)
                                    print("Tipo de dato incorrecto, regreso al menu anterior")
                                    break
                                else:
                                    s=float(s)
                                print("La cantidad en miligramos es: "  + str(s*1000000000))
                                break
                            elif n=="cg":
                                s=input("Escriba la cantidad a convertir ")
                                if s.isalpha()==True:
                                    s=float(s)
                                    print("Tipo de dato incorrecto, regreso al menu anterior")
                                    break
                                else:
                                    s=float(s)
                                print("La cantidad en centigrmaos es: "  + str(s*100000000))
                                break
                            elif n=="dcg":
                                s=input("Escriba la cantidad a convertir ")
                                if s.isalpha()==True:
                                    s=float(s)
                                    print("Tipo de dato incorrecto, regreso al menu anterior")
                                    break
                                else:
                                    s=float(s)
                                print("La cantidad en decigramos es: "  + str(s*10000000))
                                break
                            elif n=="g":
                                s=input("Escriba la cantidad a convertir ")
                                if s.isalpha()==True:
                                    s=float(s)
                                    print("Tipo de dato incorrecto, regreso al menu anterior")
                                    break
                                else:
                                    s=float(s)
                                print("La cantidad en gramos es: "  + str(s*1000000))
                                break
                            elif n=="dg":
                                s=input("Escriba la cantidad a convertir ")
                                if s.isalpha()==True:
                                    s=float(s)
                                    print("Tipo de dato incorrecto, regreso al menu anterior")
                                    break
                                else:
                                    s=float(s)
                                print("La cantidad en decagramos es: "  + str(s*100000))
                                break
                            elif n=="hg":
                                s=input("Escriba la cantidad a convertir ")
                                if s.isalpha()==True:
                                    s=float(s)
                                    print("Tipo de dato incorrecto, regreso al menu anterior")
                                    break
                                else:
                                    s=float(s)
                                print("La cantidad en hectogramos es: "  + str(s*10000))
                                break
                            elif n=="kg":
                                s=input("Escriba la cantidad a convertir ")
                                if s.isalpha()==True:
                                    s=float(s)
                                    print("Tipo de dato incorrecto, regreso al menu anterior")
                                    break
                                else:
                                    s=float(s)
                                print("La cantidad en kilogramos es: "  + str(s*1000))
                                break
                            elif n=="atras":
                                break
                            else:
                                print("Seleccion incorrecta, vuelva a elegir")
                    elif n=="atras":
                        break
                    else:
                        print("Seleccion incorrecta, vuelva a elegir")
            elif n=="metrico":
                while True:
                    n=input("Escriba \"mg\", \"cg\", \"dcg\", \"g\", \"dg\", \"hg\", \"kg\" o \"atras\" para elegir el sistema de unidades o volver al menu anterior ")        
                    if n=="mg":
                        while True:
                            n=input("Escriba \"mg\", \"cg\", \"dcg\" \"g\", \"dg\", \"hg\", \"kg\", \"lb\", \"ton\" o \"atras\" para elegir la unidad o volver al menu anterior ")
                            if n=="oz":
                                s=input("Escriba la cantidad a convertir ")
                                if s.isalpha()==True:
                                    s=float(s)
                                    print("Tipo de dato incorrecto, regreso al menu anterior")
                                    break
                                else:
                                    s=float(s)
                                print("La cantidad en onzas es: "  + str((s*1000)/28.3459))
                                break
                            elif n=="ton":
                                s=input("Escriba la cantidad a convertir ")
                                if s.isalpha()==True:
                                    s=float(s)
                                    print("Tipo de dato incorrecto, regreso al menu anterior")
                                    break
                                else:
                                    s=float(s)
                                print("La cantidad en toneladas es: "  + str(s/1000000000))
                                break
                            elif n=="lb":
                                s=input("Escriba la cantidad a convertir ")
                                if s.isalpha()==True:
                                    s=float(s)
                                    print("Tipo de dato incorrecto, regreso al menu anterior")
                                    break
                                else:
                                    s=float(s)
                                print("La cantidad en libras es: "  + str(s/(453.592*1000)))
                                break
                            elif n=="cg":
                                s=input("Escriba la cantidad a convertir ")
                                if s.isalpha()==True:
                                    s=float(s)
                                    print("Tipo de dato incorrecto, regreso al menu anterior")
                                    break
                                else:
                                    s=float(s)
                                print("La cantidad en centigrmaos es: "  + str(s/10))
                                break
                            elif n=="dcg":
                                s=input("Escriba la cantidad a convertir ")
                                if s.isalpha()==True:
                                    s=float(s)
                                    print("Tipo de dato incorrecto, regreso al menu anterior")
                                    break
                                else:
                                    s=float(s)
                                print("La cantidad en decigramos es: "  + str(s/100))
                                break
                            elif n=="g":
                                s=input("Escriba la cantidad a convertir ")
                                if s.isalpha()==True:
                                    s=float(s)
                                    print("Tipo de dato incorrecto, regreso al menu anterior")
                                    break
                                else:
                                    s=float(s)
                                print("La cantidad en gramos es: "  + str(s/1000))
                                break
                            elif n=="dg":
                                s=input("Escriba la cantidad a convertir ")
                                if s.isalpha()==True:
                                    s=float(s)
                                    print("Tipo de dato incorrecto, regreso al menu anterior")
                                    break
                                else:
                                    s=float(s)
                                print("La cantidad en decagramos es: "  + str(s/10000))
                                break
                            elif n=="hg":
                                s=input("Escriba la cantidad a convertir ")
                                if s.isalpha()==True:
                                    s=float(s)
                                    print("Tipo de dato incorrecto, regreso al menu anterior")
                                    break
                                else:
                                    s=float(s)
                                print("La cantidad en hectogramos es: "  + str(s/100000))
                                break
                            elif n=="kg":
                                s=input("Escriba la cantidad a convertir ")
                                if s.isalpha()==True:
                                    s=float(s)
                                    print("Tipo de dato incorrecto, regreso al menu anterior")
                                    break
                                else:
                                    s=float(s)
                                print("La cantidad en kilogramos es: "  + str(s/1000000))
                                break
                            elif n=="atras":
                                break
                            else:
                                print("Seleccion incorrecta, vuelva a elegir")
                    elif n=="cg":
                        while True:
                            n=input("Escriba \"mg\", \"cg\", \"dcg\" \"g\", \"dg\", \"hg\", \"kg\", \"lb\", \"ton\" o \"atras\" para elegir la unidad o volver al menu anterior ")
                            if n=="oz":
                                s=input("Escriba la cantidad a convertir ")
                                if s.isalpha()==True:
                                    s=float(s)
                                    print("Tipo de dato incorrecto, regreso al menu anterior")
                                    break
                                else:
                                    s=float(s)
                                print("La cantidad en onzas es: "  + str((s*100)/28.3459))
                                break
                            elif n=="ton":
                                s=input("Escriba la cantidad a convertir ")
                                if s.isalpha()==True:
                                    s=float(s)
                                    print("Tipo de dato incorrecto, regreso al menu anterior")
                                    break
                                else:
                                    s=float(s)
                                print("La cantidad en toneladas es: "  + str(s/100000000))
                                break
                            elif n=="lb":
                                s=input("Escriba la cantidad a convertir ")
                                if s.isalpha()==True:
                                    s=float(s)
                                    print("Tipo de dato incorrecto, regreso al menu anterior")
                                    break
                                else:
                                    s=float(s)
                                print("La cantidad en libras es: "  + str(s/(453.592*100)))
                                break
                            elif n=="mg":
                                s=input("Escriba la cantidad a convertir ")
                                if s.isalpha()==True:
                                    s=float(s)
                                    print("Tipo de dato incorrecto, regreso al menu anterior")
                                    break
                                else:
                                    s=float(s)
                                print("La cantidad en miligramos es: "  + str(s*10))
                                break
                            elif n=="dcg":
                                s=input("Escriba la cantidad a convertir ")
                                if s.isalpha()==True:
                                    s=float(s)
                                    print("Tipo de dato incorrecto, regreso al menu anterior")
                                    break
                                else:
                                    s=float(s)
                                print("La cantidad en decigramos es: "  + str(s/10))
                                break
                            elif n=="g":
                                s=input("Escriba la cantidad a convertir ")
                                if s.isalpha()==True:
                                    s=float(s)
                                    print("Tipo de dato incorrecto, regreso al menu anterior")
                                    break
                                else:
                                    s=float(s)
                                print("La cantidad en gramos es: "  + str(s/100))
                                break
                            elif n=="dg":
                                s=input("Escriba la cantidad a convertir ")
                                if s.isalpha()==True:
                                    s=float(s)
                                    print("Tipo de dato incorrecto, regreso al menu anterior")
                                    break
                                else:
                                    s=float(s)
                                print("La cantidad en decagramos es: "  + str(s/1000))
                                break
                            elif n=="hg":
                                s=input("Escriba la cantidad a convertir ")
                                if s.isalpha()==True:
                                    s=float(s)
                                    print("Tipo de dato incorrecto, regreso al menu anterior")
                                    break
                                else:
                                    s=float(s)
                                print("La cantidad en hectogramos es: "  + str(s/10000))
                                break
                            elif n=="kg":
                                s=input("Escriba la cantidad a convertir ")
                                if s.isalpha()==True:
                                    s=float(s)
                                    print("Tipo de dato incorrecto, regreso al menu anterior")
                                    break
                                else:
                                    s=float(s)
                                print("La cantidad en kilogramos es: "  + str(s/100000))
                                break
                            elif n=="atras":
                                break
                            else:
                                print("Seleccion incorrecta, vuelva a elegir")
                    elif n=="dcg":
                        while True:
                            n=input("Escriba \"mg\", \"cg\", \"dcg\" \"g\", \"dg\", \"hg\", \"kg\", \"lb\", \"ton\" o \"atras\" para elegir la unidad o volver al menu anterior ")
                            if n=="oz":
                                s=input("Escriba la cantidad a convertir ")
                                if s.isalpha()==True:
                                    s=float(s)
                                    print("Tipo de dato incorrecto, regreso al menu anterior")
                                    break
                                else:
                                    s=float(s)
                                print("La cantidad en onzas es: "  + str((s*10)/28.3459))
                                break
                            elif n=="ton":
                                s=input("Escriba la cantidad a convertir ")
                                if s.isalpha()==True:
                                    s=float(s)
                                    print("Tipo de dato incorrecto, regreso al menu anterior")
                                    break
                                else:
                                    s=float(s)
                                print("La cantidad en toneladas es: "  + str(s/10000000))
                                break
                            elif n=="lb":
                                s=input("Escriba la cantidad a convertir ")
                                if s.isalpha()==True:
                                    s=float(s)
                                    print("Tipo de dato incorrecto, regreso al menu anterior")
                                    break
                                else:
                                    s=float(s)
                                print("La cantidad en libras es: "  + str(s/(453.592*10)))
                                break
                            elif n=="mg":
                                s=input("Escriba la cantidad a convertir ")
                                if s.isalpha()==True:
                                    s=float(s)
                                    print("Tipo de dato incorrecto, regreso al menu anterior")
                                    break
                                else:
                                    s=float(s)
                                print("La cantidad en miligramos es: "  + str(s*100))
                                break
                            elif n=="cg":
                                s=input("Escriba la cantidad a convertir ")
                                if s.isalpha()==True:
                                    s=float(s)
                                    print("Tipo de dato incorrecto, regreso al menu anterior")
                                    break
                                else:
                                    s=float(s)
                                print("La cantidad en centigramos es: "  + str(s*10))
                                break
                            elif n=="g":
                                s=input("Escriba la cantidad a convertir ")
                                if s.isalpha()==True:
                                    s=float(s)
                                    print("Tipo de dato incorrecto, regreso al menu anterior")
                                    break
                                else:
                                    s=float(s)
                                print("La cantidad en gramos es: "  + str(s/10))
                                break
                            elif n=="dg":
                                s=input("Escriba la cantidad a convertir ")
                                if s.isalpha()==True:
                                    s=float(s)
                                    print("Tipo de dato incorrecto, regreso al menu anterior")
                                    break
                                else:
                                    s=float(s)
                                print("La cantidad en decagramos es: "  + str(s/100))
                                break
                            elif n=="hg":
                                s=input("Escriba la cantidad a convertir ")
                                if s.isalpha()==True:
                                    s=float(s)
                                    print("Tipo de dato incorrecto, regreso al menu anterior")
                                    break
                                else:
                                    s=float(s)
                                print("La cantidad en hectogramos es: "  + str(s/1000))
                                break
                            elif n=="kg":
                                s=input("Escriba la cantidad a convertir ")
                                if s.isalpha()==True:
                                    s=float(s)
                                    print("Tipo de dato incorrecto, regreso al menu anterior")
                                    break
                                else:
                                    s=float(s)
                                print("La cantidad en kilogramos es: "  + str(s/10000))
                                break
                            elif n=="atras":
                                break
                            else:
                                print("Seleccion incorrecta, vuelva a elegir")
                    elif n=="g":
                        while True:
                            n=input("Escriba \"mg\", \"cg\", \"dcg\" \"g\", \"dg\", \"hg\", \"kg\", \"lb\", \"ton\" o \"atras\" para elegir la unidad o volver al menu anterior ")
                            if n=="oz":
                                s=input("Escriba la cantidad a convertir ")
                                if s.isalpha()==True:
                                    s=float(s)
                                    print("Tipo de dato incorrecto, regreso al menu anterior")
                                    break
                                else:
                                    s=float(s)
                                print("La cantidad en onzas es: "  + str(s/28.3459))
                                break
                            elif n=="ton":
                                s=input("Escriba la cantidad a convertir ")
                                if s.isalpha()==True:
                                    s=float(s)
                                    print("Tipo de dato incorrecto, regreso al menu anterior")
                                    break
                                else:
                                    s=float(s)
                                print("La cantidad en toneladas es: "  + str(s/1000000))
                                break
                            elif n=="lb":
                                s=input("Escriba la cantidad a convertir ")
                                if s.isalpha()==True:
                                    s=float(s)
                                    print("Tipo de dato incorrecto, regreso al menu anterior")
                                    break
                                else:
                                    s=float(s)
                                print("La cantidad en libras es: "  + str(s/(453.592)))
                                break
                            elif n=="mg":
                                s=input("Escriba la cantidad a convertir ")
                                if s.isalpha()==True:
                                    s=float(s)
                                    print("Tipo de dato incorrecto, regreso al menu anterior")
                                    break
                                else:
                                    s=float(s)
                                print("La cantidad en miligramos es: "  + str(s*1000))
                                break
                            elif n=="cg":
                                s=input("Escriba la cantidad a convertir ")
                                if s.isalpha()==True:
                                    s=float(s)
                                    print("Tipo de dato incorrecto, regreso al menu anterior")
                                    break
                                else:
                                    s=float(s)
                                print("La cantidad en centigramos es: "  + str(s*100))
                                break
                            elif n=="dcg":
                                s=input("Escriba la cantidad a convertir ")
                                if s.isalpha()==True:
                                    s=float(s)
                                    print("Tipo de dato incorrecto, regreso al menu anterior")
                                    break
                                else:
                                    s=float(s)
                                print("La cantidad en gramos es: "  + str(s*10))
                                break
                            elif n=="dg":
                                s=input("Escriba la cantidad a convertir ")
                                if s.isalpha()==True:
                                    s=float(s)
                                    print("Tipo de dato incorrecto, regreso al menu anterior")
                                    break
                                else:
                                    s=float(s)
                                print("La cantidad en decagramos es: "  + str(s/10))
                                break
                            elif n=="hg":
                                s=input("Escriba la cantidad a convertir ")
                                if s.isalpha()==True:
                                    s=float(s)
                                    print("Tipo de dato incorrecto, regreso al menu anterior")
                                    break
                                else:
                                    s=float(s)
                                print("La cantidad en hectogramos es: "  + str(s/100))
                                break
                            elif n=="kg":
                                s=input("Escriba la cantidad a convertir ")
                                if s.isalpha()==True:
                                    s=float(s)
                                    print("Tipo de dato incorrecto, regreso al menu anterior")
                                    break
                                else:
                                    s=float(s)
                                print("La cantidad en kilogramos es: "  + str(s/1000))
                                break
                            elif n=="atras":
                                break
                            else:
                                print("Seleccion incorrecta, vuelva a elegir")
                    elif n=="dg":
                        while True:
                            n=input("Escriba \"mg\", \"cg\", \"dcg\" \"g\", \"dg\", \"hg\", \"kg\", \"lb\", \"ton\" o \"atras\" para elegir la unidad o volver al menu anterior ")
                            if n=="oz":
                                s=input("Escriba la cantidad a convertir ")
                                if s.isalpha()==True:
                                    s=float(s)
                                    print("Tipo de dato incorrecto, regreso al menu anterior")
                                    break
                                else:
                                    s=float(s)
                                print("La cantidad en onzas es: "  + str(s/(28.3459*10)))
                                break
                            elif n=="ton":
                                s=input("Escriba la cantidad a convertir ")
                                if s.isalpha()==True:
                                    s=float(s)
                                    print("Tipo de dato incorrecto, regreso al menu anterior")
                                    break
                                else:
                                    s=float(s)
                                print("La cantidad en toneladas es: "  + str(s/100000))
                                break
                            elif n=="lb":
                                s=input("Escriba la cantidad a convertir ")
                                if s.isalpha()==True:
                                    s=float(s)
                                    print("Tipo de dato incorrecto, regreso al menu anterior")
                                    break
                                else:
                                    s=float(s)
                                print("La cantidad en libras es: "  + str(s/(453.592*10)))
                                break
                            elif n=="mg":
                                s=input("Escriba la cantidad a convertir ")
                                if s.isalpha()==True:
                                    s=float(s)
                                    print("Tipo de dato incorrecto, regreso al menu anterior")
                                    break
                                else:
                                    s=float(s)
                                print("La cantidad en miligramos es: "  + str(s*10000))
                                break
                            elif n=="cg":
                                s=input("Escriba la cantidad a convertir ")
                                if s.isalpha()==True:
                                    s=float(s)
                                    print("Tipo de dato incorrecto, regreso al menu anterior")
                                    break
                                else:
                                    s=float(s)
                                print("La cantidad en centigramos es: "  + str(s*1000))
                                break
                            elif n=="dcg":
                                s=input("Escriba la cantidad a convertir ")
                                if s.isalpha()==True:
                                    s=float(s)
                                    print("Tipo de dato incorrecto, regreso al menu anterior")
                                    break
                                else:
                                    s=float(s)
                                print("La cantidad en decigramos es: "  + str(s*100))
                                break
                            elif n=="g":
                                s=input("Escriba la cantidad a convertir ")
                                if s.isalpha()==True:
                                    s=float(s)
                                    print("Tipo de dato incorrecto, regreso al menu anterior")
                                    break
                                else:
                                    s=float(s)
                                print("La cantidad en decagramos es: "  + str(s*10))
                                break
                            elif n=="hg":
                                s=input("Escriba la cantidad a convertir ")
                                if s.isalpha()==True:
                                    s=float(s)
                                    print("Tipo de dato incorrecto, regreso al menu anterior")
                                    break
                                else:
                                    s=float(s)
                                print("La cantidad en hectogramos es: "  + str(s/10))
                                break
                            elif n=="kg":
                                s=input("Escriba la cantidad a convertir ")
                                if s.isalpha()==True:
                                    s=float(s)
                                    print("Tipo de dato incorrecto, regreso al menu anterior")
                                    break
                                else:
                                    s=float(s)
                                print("La cantidad en kilogramos es: "  + str(s/100))
                                break
                            elif n=="atras":
                                break
                            else:
                                print("Seleccion incorrecta, vuelva a elegir")
                    elif n=="hg":
                        while True:
                            n=input("Escriba \"mg\", \"cg\", \"dcg\" \"g\", \"dg\", \"hg\", \"kg\", \"lb\", \"ton\" o \"atras\" para elegir la unidad o volver al menu anterior ")
                            if n=="oz":
                                s=input("Escriba la cantidad a convertir ")
                                if s.isalpha()==True:
                                    s=float(s)
                                    print("Tipo de dato incorrecto, regreso al menu anterior")
                                    break
                                else:
                                    s=float(s)
                                print("La cantidad en onzas es: "  + str(s/(28.3459*100)))
                                break
                            elif n=="ton":
                                s=input("Escriba la cantidad a convertir ")
                                if s.isalpha()==True:
                                    s=float(s)
                                    print("Tipo de dato incorrecto, regreso al menu anterior")
                                    break
                                else:
                                    s=float(s)
                                print("La cantidad en toneladas es: "  + str(s/10000))
                                break
                            elif n=="lb":
                                s=input("Escriba la cantidad a convertir ")
                                if s.isalpha()==True:
                                    s=float(s)
                                    print("Tipo de dato incorrecto, regreso al menu anterior")
                                    break
                                else:
                                    s=float(s)
                                print("La cantidad en libras es: "  + str(s/(453.592*100)))
                                break
                            elif n=="mg":
                                s=input("Escriba la cantidad a convertir ")
                                if s.isalpha()==True:
                                    s=float(s)
                                    print("Tipo de dato incorrecto, regreso al menu anterior")
                                    break
                                else:
                                    s=float(s)
                                print("La cantidad en miligramos es: "  + str(s*100000))
                                break
                            elif n=="cg":
                                s=input("Escriba la cantidad a convertir ")
                                if s.isalpha()==True:
                                    s=float(s)
                                    print("Tipo de dato incorrecto, regreso al menu anterior")
                                    break
                                else:
                                    s=float(s)
                                print("La cantidad en centigramos es: "  + str(s*10000))
                                break
                            elif n=="dcg":
                                s=input("Escriba la cantidad a convertir ")
                                if s.isalpha()==True:
                                    s=float(s)
                                    print("Tipo de dato incorrecto, regreso al menu anterior")
                                    break
                                else:
                                    s=float(s)
                                print("La cantidad en decigramos es: "  + str(s*1000))
                                break
                            elif n=="g":
                                s=input("Escriba la cantidad a convertir ")
                                if s.isalpha()==True:
                                    s=float(s)
                                    print("Tipo de dato incorrecto, regreso al menu anterior")
                                    break
                                else:
                                    s=float(s)
                                print("La cantidad en gramos es: "  + str(s*100))
                                break
                            elif n=="dg":
                                s=input("Escriba la cantidad a convertir ")
                                if s.isalpha()==True:
                                    s=float(s)
                                    print("Tipo de dato incorrecto, regreso al menu anterior")
                                    break
                                else:
                                    s=float(s)
                                print("La cantidad en decagramos es: "  + str(s*10))
                                break
                            elif n=="kg":
                                s=input("Escriba la cantidad a convertir ")
                                if s.isalpha()==True:
                                    s=float(s)
                                    print("Tipo de dato incorrecto, regreso al menu anterior")
                                    break
                                else:
                                    s=float(s)
                                print("La cantidad en kilogramos es: "  + str(s/10))
                                break
                            elif n=="atras":
                                break
                            else:
                                print("Seleccion incorrecta, vuelva a elegir")
                    elif n=="kg":
                        while True:
                            n=input("Escriba \"mg\", \"cg\", \"dcg\" \"g\", \"dg\", \"hg\", \"kg\", \"lb\", \"ton\" o \"atras\" para elegir la unidad o volver al menu anterior ")
                            if n=="oz":
                                s=input("Escriba la cantidad a convertir ")
                                if s.isalpha()==True:
                                    s=float(s)
                                    print("Tipo de dato incorrecto, regreso al menu anterior")
                                    break
                                else:
                                    s=float(s)
                                print("La cantidad en onzas es: "  + str(s/(28.3459*1000)))
                                break
                            elif n=="ton":
                                s=input("Escriba la cantidad a convertir ")
                                if s.isalpha()==True:
                                    s=float(s)
                                    print("Tipo de dato incorrecto, regreso al menu anterior")
                                    break
                                else:
                                    s=float(s)
                                print("La cantidad en toneladas es: "  + str(s/1000))
                                break
                            elif n=="lb":
                                s=input("Escriba la cantidad a convertir ")
                                if s.isalpha()==True:
                                    s=float(s)
                                    print("Tipo de dato incorrecto, regreso al menu anterior")
                                    break
                                else:
                                    s=float(s)
                                print("La cantidad en libras es: "  + str(s/(453.592*1000)))
                                break
                            elif n=="mg":
                                s=input("Escriba la cantidad a convertir ")
                                if s.isalpha()==True:
                                    s=float(s)
                                    print("Tipo de dato incorrecto, regreso al menu anterior")
                                    break
                                else:
                                    s=float(s)
                                print("La cantidad en miligramos es: "  + str(s*1000000))
                                break
                            elif n=="cg":
                                s=input("Escriba la cantidad a convertir ")
                                if s.isalpha()==True:
                                    s=float(s)
                                    print("Tipo de dato incorrecto, regreso al menu anterior")
                                    break
                                else:
                                    s=float(s)
                                print("La cantidad en centigramos es: "  + str(s*100000))
                                break
                            elif n=="dcg":
                                s=input("Escriba la cantidad a convertir ")
                                if s.isalpha()==True:
                                    s=float(s)
                                    print("Tipo de dato incorrecto, regreso al menu anterior")
                                    break
                                else:
                                    s=float(s)
                                print("La cantidad en decigramos es: "  + str(s*10000))
                                break
                            elif n=="g":
                                s=input("Escriba la cantidad a convertir ")
                                if s.isalpha()==True:
                                    s=float(s)
                                    print("Tipo de dato incorrecto, regreso al menu anterior")
                                    break
                                else:
                                    s=float(s)
                                print("La cantidad en gramos es: "  + str(s*1000))
                                break
                            elif n=="dg":
                                s=input("Escriba la cantidad a convertir ")
                                if s.isalpha()==True:
                                    s=float(s)
                                    print("Tipo de dato incorrecto, regreso al menu anterior")
                                    break
                                else:
                                    s=float(s)
                                print("La cantidad en decagramos es: "  + str(s*100))
                                break
                            elif n=="hg":
                                s=input("Escriba la cantidad a convertir ")
                                if s.isalpha()==True:
                                    s=float(s)
                                    print("Tipo de dato incorrecto, regreso al menu anterior")
                                    break
                                else:
                                    s=float(s)
                                print("La cantidad en hectogramos es: "  + str(s*10))
                                break
                            elif n=="atras":
                                break
                            else:
                                print("Seleccion incorrecta, vuelva a elegir")
                    elif n=="atras":
                        break
                    else:
                        print("Seleccion incorrecta, vuelva a elegir")
            elif n=="atras":
                break
            else:
                print("Seleccion incorrecta, vuelva a elegir")
    #Condicional elif para seleccionar el tipo de unidad a convertir 
    elif n=="tiempo":
        #Ciclo while para mantener en la seleccion al usuario hasta ingresar el comando atras
        while True:
            #Declaracion de de variable n para elegir el tipo de unidad
            n=input("Escriba \"milisegundos\", \"segundos\", \"minutos\", \"horas\", \"dias\" o \"atras\", para elegir la unidad a convertir o volver al menu anterior ")
            #Condicional if para elegir el el tipo de unidad a convertir
            if n=="milisegundos":
                #Ciclo while para mantener al usuario en el programa hasta ingresar el comando atras
                while True:
                    #Declaracion de otra variable n para elegir la unidad a la que se va a convertir
                    n=input("Escriba \"segundos\", \"minutos\", \"horas\" \"dias\" o \"atras\" para elegir la unidad o volver al menu anterior ")
                    #Condicional if para elegir la unidad a la que se va a convertir
                    if n=="segundos":
                        #Declaracion de la variable s para ingresar la cantidad a convertir
                        s=input("Escriba la cantidad a convertir ")
                        #Condicional if para evaluar que el tipo de dato sea el correcto
                        if s.isalpha()==True:
                            s=float(s)
                            print("Tipo de dato incorrecto, regreso al menu anterior")
                            break
                        else:
                            s=float(s)
                        #Impresion de la cantidad convertida
                        print("La cantidad en segundos es: "  + str(s/1000))
                        break
                    elif n=="minutos":
                        s=input("Escriba la cantidad a convertir ")
                        if s.isalpha()==True:
                            s=float(s)
                            print("Tipo de dato incorrecto, regreso al menu anterior")
                            break
                        else:
                            s=float(s)
                        print("La cantidad en minutos es: "  + str((s/1000)/60))
                        break
                    elif n=="horas":
                        s=input("Escriba la cantidad a convertir ")
                        if s.isalpha()==True:
                            s=float(s)
                            print("Tipo de dato incorrecto, regreso al menu anterior")
                            break
                        else:
                            s=float(s)
                        print("La cantidad en horas es: "  + str((s/1000)/(60*60)))
                        break
                    elif n=="dias":
                        s=input("Escriba la cantidad a convertir ")
                        if s.isalpha()==True:
                            s=float(s)
                            print("Tipo de dato incorrecto, regreso al menu anterior")
                            break
                        else:
                            s=float(s)
                        print("La cantidad en dias es: "  + str((s/1000)/((60*60)/24)))
                        break
                    elif n=="atras":
                        break
                    else:
                        print("Seleccion incorrecta, vuelva a elegir")
            elif n=="segundos":
                while True:
                    n=input("Escriba \"milisegundos\", \"minutos\", \"horas\" \"dias\" o \"atras\" para elegir la unidad o volver al menu anterior ")
                    if n=="milisegundos":
                        s=input("Escriba la cantidad a convertir ")
                        if type(s)!=float or int:
                            print("Tipo de dato incorrecto, regreso al menu anterior")
                            break
                        else:
                            s=float(s)
                        print("La cantidad en milisegundos es: "  + str(s*1000))
                        break
                    elif n=="minutos":
                        s=input("Escriba la cantidad a convertir ")
                        if s.isalpha()==True:
                            s=float(s)
                            print("Tipo de dato incorrecto, regreso al menu anterior")
                            break
                        else:
                            s=float(s)
                        print("La cantidad en minutos es: "  + str(s/60))
                        break
                    elif n=="horas":
                        s=input("Escriba la cantidad a convertir ")
                        if s.isalpha()==True:
                            s=float(s)
                            print("Tipo de dato incorrecto, regreso al menu anterior")
                            break
                        else:
                            s=float(s)
                        print("La cantidad en horas es: "  + str(s/(60*60)))
                        break
                    elif n=="dias":
                        s=input("Escriba la cantidad a convertir ")
                        if s.isalpha()==True:
                            s=float(s)
                            print("Tipo de dato incorrecto, regreso al menu anterior")
                            break
                        else:
                            s=float(s)
                        print("La cantidad en dias es: "  + str((s/((60*60)/24))))
                        break
                    elif n=="atras":
                        break
                    else:
                        print("Seleccion incorrecta, vuelva a elegir")
            elif n=="minutos":
                while True:
                    n=input("Escriba \"milisegundos\", \"minutos\", \"horas\" \"dias\" o \"atras\" para elegir la unidad o volver al menu anterior ")
                    if n=="milisegundos":
                        s=input("Escriba la cantidad a convertir ")
                        if s.isalpha()==True:
                            s=float(s)
                            print("Tipo de dato incorrecto, regreso al menu anterior")
                            break
                        else:
                            s=float(s)
                        print("La cantidad en milisegundos es: "  + str(s*60*1000))
                        break
                    elif n=="segundos":
                        s=input("Escriba la cantidad a convertir ")
                        if s.isalpha()==True:
                            s=float(s)
                            print("Tipo de dato incorrecto, regreso al menu anterior")
                            break
                        else:
                            s=float(s)
                        print("La cantidad en segundos es: "  + str(s*60))
                        break
                    elif n=="horas":
                        s=input("Escriba la cantidad a convertir ")
                        if s.isalpha()==True:
                            s=float(s)
                            print("Tipo de dato incorrecto, regreso al menu anterior")
                            break
                        else:
                            s=float(s)
                        print("La cantidad en horas es: "  + str(s/60))
                        break
                    elif n=="dias":
                        s=input("Escriba la cantidad a convertir ")
                        if s.isalpha()==True:
                            s=float(s)
                            print("Tipo de dato incorrecto, regreso al menu anterior")
                            break
                        else:
                            s=float(s)
                        print("La cantidad en dias es: "  + str(s/(60*24)))
                        break
                    elif n=="atras":
                        break
                    else:
                        print("Seleccion incorrecta, vuelva a elegir")
            elif n=="horas":
                while True:
                    n=input("Escriba \"milisegundos\", \"minutos\", \"horas\" \"dias\" o \"atras\" para elegir la unidad o volver al menu anterior ")
                    if n=="milisegundos":
                        s=input("Escriba la cantidad a convertir ")
                        if s.isalpha()==True:
                            s=float(s)
                            print("Tipo de dato incorrecto, regreso al menu anterior")
                            break
                        else:
                            s=float(s)
                        print("La cantidad en milisegundos es: "  + str(s*60*60*1000))
                        break
                    elif n=="segundos":
                        s=input("Escriba la cantidad a convertir ")
                        if s.isalpha()==True:
                            s=float(s)
                            print("Tipo de dato incorrecto, regreso al menu anterior")
                            break
                        else:
                            s=float(s)
                        print("La cantidad en segundos es: "  + str(s*60*60))
                        break
                    elif n=="minutos":
                        s=input("Escriba la cantidad a convertir ")
                        if s.isalpha()==True:
                            s=float(s)
                            print("Tipo de dato incorrecto, regreso al menu anterior")
                            break
                        else:
                            s=float(s)
                        print("La cantidad en minutos es: "  + str(s*60))
                        break
                    elif n=="dias":
                        s=input("Escriba la cantidad a convertir ")
                        if s.isalpha()==True:
                            s=float(s)
                            print("Tipo de dato incorrecto, regreso al menu anterior")
                            break
                        else:
                            s=float(s)
                        print("La cantidad en dias es: "  + str(s/24))
                        break
                    elif n=="atras":
                        break
                    else:
                        print("Seleccion incorrecta, vuelva a elegir")
            elif n=="dias":
                while True:
                    n=input("Escriba \"milisegundos\", \"minutos\", \"horas\" \"dias\" o \"atras\" para elegir la unidad o volver al menu anterior ")
                    if n=="milisegundos":
                        s=input("Escriba la cantidad a convertir ")
                        if s.isalpha()==True:
                            s=float(s)
                            print("Tipo de dato incorrecto, regreso al menu anterior")
                            break
                        else:
                            s=float(s)
                            print("La cantidad en milisegundos es: "  + str(s*60*24*60*1000))
                            break
                    elif n=="segundos":
                        s=input("Escriba la cantidad a convertir ")
                        if s.isalpha()==True:
                            s=float(s)
                            print("Tipo de dato incorrecto, regreso al menu anterior")
                            break
                        else:
                            s=float(s)
                            print("La cantidad en segundos es: "  + str(s*60*24*60))
                            break
                    elif n=="minutos":
                        s=input("Escriba la cantidad a convertir ")
                        if s.isalpha()==True:
                            s=float(s)
                            print("Tipo de dato incorrecto, regreso al menu anterior")
                            break
                        else:
                            s=float(s)
                        print("La cantidad en minutos es: "  + str(s*24*60))
                        break
                    elif n=="horas":
                        s=input("Escriba la cantidad a convertir ")
                        if s.isalpha()==True:
                            print("Tipo de dato incorrecto, regreso al menu anterior")
                            break
                        else:
                            s=float(s)
                            print("La cantidad en horas es: "  + str(s*24))
                            break
                    elif n=="atras":
                        break
                    else:
                        print("Seleccion incorrecta, vuelva a elegir")
            elif n=="atras":
                break
            else:
                print("Seleccion incorrecta, vuelva a elegir") 
    elif n == "volumen":
        print('volumen')
        while True:
            n=input("Escriba \"ingles\", \"metrico\" o \"atras\" para elegir el sistema de unidades o volver al menu anterior ")
            if n=="ingles":
                while True:
                    n=input("Escriba \"pinta\", \"galon\", \"ozl\" o \"atras\" para elegir el sistema de unidades o volver al menu anterior ")
                    if n=="pinta":
                        while True:
                            n=input("Escriba \"ml\", \"cl\", \"dcl\", \"l\", \"dl\", \"hl\", \"kl\", \"galon\", \"ozl\" o \"atras\" para elegir la unidad o volver al menu anterior ")
                            if n=="galon":
                                s=input("Escriba la cantidad a convertir ")
                                if s.isalpha()==True:
                                    s=float(s)
                                    print("Tipo de dato incorrecto, regreso al menu anterior")
                                    break
                                else:
                                    s=float(s)
                                print("La cantidad en galones es: " + str(s/8))
                                break
                            elif n=="ozl":
                                s=input("Escriba la cantidad a convertir ")
                                if s.isalpha()==True:
                                    s=float(s)
                                    print("Tipo de dato incorrecto, regreso al menu anterior")
                                    break
                                else:
                                    s=float(s)
                                print("La cantidad en onzas liquidas es: " + str(s*16))
                                break
                            elif n=="ml":
                                s=input("Escriba la cantidad a convertir ")
                                if s.isalpha()==True:
                                    s=float(s)
                                    print("Tipo de dato incorrecto, regreso al menu anterior")
                                    break
                                else:
                                    s=float(s)
                                print("La cantidad en mililitros es: " + str((s/2.11338)*1000))
                                break
                            elif n=="cl":
                                s=input("Escriba la cantidad a convertir ")
                                if s.isalpha()==True:
                                    s=float(s)
                                    print("Tipo de dato incorrecto, regreso al menu anterior")
                                    break
                                else:
                                    s=float(s)
                                print("La cantidad en centilitros es: "  + str((s/2.11338)*100))
                                break
                            elif n=="dcl":
                                s=input("Escriba la cantidad a convertir ")
                                if s.isalpha()==True:
                                    s=float(s)
                                    print("Tipo de dato incorrecto, regreso al menu anterior")
                                    break
                                else:
                                    s=float(s)
                                print("La cantidad en decilitros es: "  + str((s/2.11338)*10))
                                break
                            elif n=="l":
                                s=input("Escriba la cantidad a convertir ")
                                if s.isalpha()==True:
                                    s=float(s)
                                    print("Tipo de dato incorrecto, regreso al menu anterior")
                                    break
                                else:
                                    s=float(s)
                                print("La cantidad en litros es: "  + str((s/2.11338)))
                                break
                            elif n=="dl":
                                s=input("Escriba la cantidad a convertir ")
                                if s.isalpha()==True:
                                    s=float(s)
                                    print("Tipo de dato incorrecto, regreso al menu anterior")
                                    break
                                else:
                                    s=float(s)
                                print("La cantidad en decalitros es: "  + str((s/2.11338)/10))
                                break
                            elif n=="hl":
                                s=input("Escriba la cantidad a convertir ")
                                if s.isalpha()==True:
                                    s=float(s)
                                    print("Tipo de dato incorrecto, regreso al menu anterior")
                                    break
                                else:
                                    s=float(s)
                                print("La cantidad en hectolitros es: "  + str((s/2.11338)/100))
                                break
                            elif n=="kl":
                                s=input("Escriba la cantidad a convertir ")
                                if s.isalpha()==True:
                                    s=float(s)
                                    print("Tipo de dato incorrecto, regreso al menu anterior")
                                    break
                                else:
                                    s=float(s)
                                print("La cantidad en kilolitros es: "  + str((s/2.11338)/1000))
                                break
                            elif n=="atras":
                                break
                            else:
                                print("Seleccion incorrecta, vuelva a elegir")
                    elif n=="ozl":
                        while True:
                            n=input("Escriba \"ml\", \"cl\", \"dcl\", \"l\", \"dl\", \"hl\", \"kl\", \"pinta\", \"galones\" o \"atras\" para elegir la unidad o volver al menu anterior ")
                            if n=="galones":
                                s=input("Escriba la cantidad a convertir ")
                                if s.isalpha()==True:
                                    s=float(s)
                                    print("Tipo de dato incorrecto, regreso al menu anterior")
                                    break
                                else:
                                    s=float(s)
                                print("La cantidad en galones es: " + str(s/128))
                                break
                            elif n=="pintas":
                                if s.isalpha()==True:
                                    s=float(s)
                                    print("Tipo de dato incorrecto, regreso al menu anterior")
                                    break
                                else:
                                    s=float(s)
                                print("La cantidad en pintas es: " + str(s/16))
                                break
                            elif n=="ml":
                                s=input("Escriba la cantidad a convertir ")
                                if s.isalpha()==True:
                                    s=float(s)
                                    print("Tipo de dato incorrecto, regreso al menu anterior")
                                    break
                                else:
                                    s=float(s)
                                print("La cantidad en mililitros es: " + str((s/33.814)*1000))
                                break
                            elif n=="cl":
                                s=input("Escriba la cantidad a convertir ")
                                if s.isalpha()==True:
                                    s=float(s)
                                    print("Tipo de dato incorrecto, regreso al menu anterior")
                                    break
                                else:
                                    s=float(s)
                                print("La cantidad en centilitros es: "  + str((s/33.814)*100))
                                break
                            elif n=="dcl":
                                s=input("Escriba la cantidad a convertir ")
                                if s.isalpha()==True:
                                    s=float(s)
                                    print("Tipo de dato incorrecto, regreso al menu anterior")
                                    break
                                else:
                                    s=float(s)
                                print("La cantidad en decilitros es: "  + str((s/33.814)*10))
                                break
                            elif n=="l":
                                s=input("Escriba la cantidad a convertir ")
                                if s.isalpha()==True:
                                    s=float(s)
                                    print("Tipo de dato incorrecto, regreso al menu anterior")
                                    break
                                else:
                                    s=float(s)
                                print("La cantidad en litros es: "  + str((s/33.814)))
                                break
                            elif n=="dl":
                                s=input("Escriba la cantidad a convertir ")
                                if s.isalpha()==True:
                                    s=float(s)
                                    print("Tipo de dato incorrecto, regreso al menu anterior")
                                    break
                                else:
                                    s=float(s)
                                print("La cantidad en decalitros es: "  + str(s*33.814/10))
                                break
                            elif n=="hl":
                                s=input("Escriba la cantidad a convertir ")
                                if s.isalpha()==True:
                                    s=float(s)
                                    print("Tipo de dato incorrecto, regreso al menu anterior")
                                    break
                                else:
                                    s=float(s)
                                print("La cantidad en hectolitros es: "  + str(s*33.814/100))
                                break
                            elif n=="kl":
                                s=input("Escriba la cantidad a convertir ")
                                if s.isalpha()==True:
                                    s=float(s)
                                    print("Tipo de dato incorrecto, regreso al menu anterior")
                                    break
                                else:
                                    s=float(s)
                                print("La cantidad en kilolitros es: "  + str(s*33.814/1000))
                                break
                            elif n=="atras":
                                break
                            else:
                                print("Seleccion incorrecta, vuelva a elegir")
                    elif n=="galones":
                        while True:
                            n=input("Escriba \"ml\", \"cl\", \"dcl\", \"l\", \"dl\", \"hl\", \"kl\", \"pinta\", \"galones\" o \"atras\" para elegir la unidad o volver al menu anterior ")
                            if n=="ozl":
                                s=input("Escriba la cantidad a convertir ")
                                if s.isalpha()==True:
                                    s=float(s)
                                    print("Tipo de dato incorrecto, regreso al menu anterior")
                                    break
                                else:
                                    s=float(s)
                                print("La cantidad en onzas liquidas es: " + str(s*128))
                                break
                            elif n=="pintas":
                                s=input("Escriba la cantidad a convertir ")
                                if s.isalpha()==True:
                                    s=float(s)
                                    print("Tipo de dato incorrecto, regreso al menu anterior")
                                    break
                                else:
                                    s=float(s)
                                print("La cantidad en pintas es: " + str(s*8))
                                break
                            elif n=="ml":
                                s=input("Escriba la cantidad a convertir ")
                                if s.isalpha()==True:
                                    s=float(s)
                                    print("Tipo de dato incorrecto, regreso al menu anterior")
                                    break
                                else:
                                    s=float(s)
                                print("La cantidad en mililitros es: " + str((s*3.78541)*1000))
                                break
                            elif n=="cl":
                                s=input("Escriba la cantidad a convertir ")
                                if s.isalpha()==True:
                                    s=float(s)
                                    print("Tipo de dato incorrecto, regreso al menu anterior")
                                    break
                                else:
                                    s=float(s)
                                print("La cantidad en centilitros es: "  + str((s*3.78541)*100))
                                break
                            elif n=="dcl":
                                s=input("Escriba la cantidad a convertir ")
                                if s.isalpha()==True:
                                    s=float(s)
                                    print("Tipo de dato incorrecto, regreso al menu anterior")
                                    break
                                else:
                                    s=float(s)
                                print("La cantidad en decilitros es: "  + str((s*3.78541)*10))
                                break
                            elif n=="l":
                                s=input("Escriba la cantidad a convertir ")
                                if s.isalpha()==True:
                                    s=float(s)
                                    print("Tipo de dato incorrecto, regreso al menu anterior")
                                    break
                                else:
                                    s=float(s)
                                print("La cantidad en litros es: "  + str((s*3.78541)))
                                break
                            elif n=="dl":
                                s=input("Escriba la cantidad a convertir ")
                                if s.isalpha()==True:
                                    s=float(s)
                                    print("Tipo de dato incorrecto, regreso al menu anterior")
                                    break
                                else:
                                    s=float(s)
                                print("La cantidad en decalitros es: "  + str(s*3.78541/10))
                                break
                            elif n=="hl":
                                s=input("Escriba la cantidad a convertir ")
                                if s.isalpha()==True:
                                    s=float(s)
                                    print("Tipo de dato incorrecto, regreso al menu anterior")
                                    break
                                else:
                                    s=float(s)
                                print("La cantidad en hectolitros es: "  + str(s*3.78541/100))
                                break
                            elif n=="kl":
                                s=input("Escriba la cantidad a convertir ")
                                if s.isalpha()==True:
                                    s=float(s)
                                    print("Tipo de dato incorrecto, regreso al menu anterior")
                                    break
                                else:
                                    s=float(s)
                                print("La cantidad en kilolitros es: "  + str(s*3.78541/1000))
                                break
                            elif n=="atras":
                                break
                            else:
                                print("Seleccion incorrecta, vuelva a elegir")
                    elif n=="atras":
                        break
                    else:
                        print("Seleccion incorrecta, vuelva a elegir")
            elif n=="metrico":
                while True: 
                    n=input("Escriba \"ml\", \"cl\", \"dcl\", \"l\", \"dl\", \"hl\", \"kl\" o \"atras\" para elegir el sistema de unidades o volver al menu anterior ")       
                    if n=="ml":
                        while True:
                            n=input("Escriba \"cl\", \"dcl\", \"l\", \"dl\", \"hl\", \"kl\", \"pintas\", \"galones\" o \"atras\" para elegir la unidad o volver al menu anterior ")
                            if n=="ozl":
                                s=input("Escriba la cantidad a convertir ")
                                if s.isalpha()==True:
                                    s=float(s)
                                    print("Tipo de dato incorrecto, regreso al menu anterior")
                                    break
                                else:
                                    s=float(s)
                                print("La cantidad en onzas liquidas es: "  + str((s*33.814)/1000))
                                break
                            elif n=="galones":
                                s=input("Escriba la cantidad a convertir ")
                                if s.isalpha()==True:
                                    s=float(s)
                                    print("Tipo de dato incorrecto, regreso al menu anterior")
                                    break
                                else:
                                    s=float(s)
                                print("La cantidad en galones es: "  + str((s*33.814)/(128*1000)))
                                break
                            elif n=="pintas":
                                s=input("Escriba la cantidad a convertir ")
                                if s.isalpha()==True:
                                    s=float(s)
                                    print("Tipo de dato incorrecto, regreso al menu anterior")
                                    break
                                else:
                                    s=float(s)
                                print("La cantidad en pintas es: "  + str((s*33.814)/(16*1000)))
                                break
                            elif n=="cl":
                                s=input("Escriba la cantidad a convertir ")
                                if s.isalpha()==True:
                                    s=float(s)
                                    print("Tipo de dato incorrecto, regreso al menu anterior")
                                    break
                                else:
                                    s=float(s)
                                print("La cantidad en centilitro es: "  + str(s/10))
                                break
                            elif n=="dcl":
                                s=input("Escriba la cantidad a convertir ")
                                if s.isalpha()==True:
                                    s=float(s)
                                    print("Tipo de dato incorrecto, regreso al menu anterior")
                                    break
                                else:
                                    s=float(s)
                                print("La cantidad en decilitro es: "  + str(s/100))
                                break
                            elif n=="l":
                                s=input("Escriba la cantidad a convertir ")
                                if s.isalpha()==True:
                                    s=float(s)
                                    print("Tipo de dato incorrecto, regreso al menu anterior")
                                    break
                                else:
                                    s=float(s)
                                print("La cantidad en litros es: "  + str(s/1000))
                                break
                            elif n=="dl":
                                s=input("Escriba la cantidad a convertir ")
                                if s.isalpha()==True:
                                    s=float(s)
                                    print("Tipo de dato incorrecto, regreso al menu anterior")
                                    break
                                else:
                                    s=float(s)
                                print("La cantidad en decalitros es: "  + str(s/10000))
                                break
                            elif n=="hl":
                                s=input("Escriba la cantidad a convertir ")
                                if s.isalpha()==True:
                                    s=float(s)
                                    print("Tipo de dato incorrecto, regreso al menu anterior")
                                    break
                                else:
                                    s=float(s)
                                print("La cantidad en hectolitros es: "  + str(s/100000))
                                break
                            elif n=="kl":
                                s=input("Escriba la cantidad a convertir ")
                                if s.isalpha()==True:
                                    s=float(s)
                                    print("Tipo de dato incorrecto, regreso al menu anterior")
                                    break
                                else:
                                    s=float(s)
                                print("La cantidad en kilolitros es: "  + str(s/1000000))
                                break
                            elif n=="atras":
                                break
                            else:
                                print("Seleccion incorrecta, vuelva a elegir")
                    elif n=="cl":
                        while True:
                            n=input("Escriba \"cl\", \"dcl\", \"l\", \"dl\", \"hl\", \"kl\", \"pintas\", \"galones\" o \"atras\" para elegir la unidad o volver al menu anterior ")
                            if n=="ozl":
                                s=input("Escriba la cantidad a convertir ")
                                if s.isalpha()==True:
                                    s=float(s)
                                    print("Tipo de dato incorrecto, regreso al menu anterior")
                                    break
                                else:
                                    s=float(s)
                                print("La cantidad en onzas liquidas es: "  + str((s*33.814)/100))
                                break
                            elif n=="galones":
                                s=input("Escriba la cantidad a convertir ")
                                if s.isalpha()==True:
                                    s=float(s)
                                    print("Tipo de dato incorrecto, regreso al menu anterior")
                                    break
                                else:
                                    s=float(s)
                                print("La cantidad en galones es: "  + str((s*33.814)/(128*100)))
                                break
                            elif n=="pintas":
                                s=input("Escriba la cantidad a convertir ")
                                if s.isalpha()==True:
                                    s=float(s)
                                    print("Tipo de dato incorrecto, regreso al menu anterior")
                                    break
                                else:
                                    s=float(s)
                                print("La cantidad en pintas es: "  + str((s*33.814)/(16*100)))
                                break
                            elif n=="ml":
                                s=input("Escriba la cantidad a convertir ")
                                if s.isalpha()==True:
                                    s=float(s)
                                    print("Tipo de dato incorrecto, regreso al menu anterior")
                                    break
                                else:
                                    s=float(s)
                                print("La cantidad en mililitros es: "  + str(s*10))
                                break
                            elif n=="dcl":
                                s=input("Escriba la cantidad a convertir ")
                                if s.isalpha()==True:
                                    s=float(s)
                                    print("Tipo de dato incorrecto, regreso al menu anterior")
                                    break
                                else:
                                    s=float(s)
                                print("La cantidad en decilitros es: "  + str(s/10))
                                break
                            elif n=="l":
                                s=input("Escriba la cantidad a convertir ")
                                if s.isalpha()==True:
                                    s=float(s)
                                    print("Tipo de dato incorrecto, regreso al menu anterior")
                                    break
                                else:
                                    s=float(s)
                                print("La cantidad en litros es: "  + str(s/100))
                                break
                            elif n=="dl":
                                s=input("Escriba la cantidad a convertir ")
                                if s.isalpha()==True:
                                    s=float(s)
                                    print("Tipo de dato incorrecto, regreso al menu anterior")
                                    break
                                else:
                                    s=float(s)
                                print("La cantidad en decalitros es: "  + str(s/1000))
                                break
                            elif n=="hl":
                                s=input("Escriba la cantidad a convertir ")
                                if s.isalpha()==True:
                                    s=float(s)
                                    print("Tipo de dato incorrecto, regreso al menu anterior")
                                    break
                                else:
                                    s=float(s)
                                print("La cantidad en hectolitros es: "  + str(s/10000))
                                break
                            elif n=="kl":
                                s=input("Escriba la cantidad a convertir ")
                                if s.isalpha()==True:
                                    s=float(s)
                                    print("Tipo de dato incorrecto, regreso al menu anterior")
                                    break
                                else:
                                    s=float(s)
                                print("La cantidad en kilolitros es: "  + str(s/100000))
                                break
                            elif n=="atras":
                                break
                            else:
                                print("Seleccion incorrecta, vuelva a elegir")
                    elif n=="dcl":
                        while True:
                            n=input("Escriba \"ml\", \"cl\", \"l\", \"dl\", \"hl\", \"kl\", \"pintas\", \"galones\" o \"atras\" para elegir la unidad o volver al menu anterior ")
                            if n=="ozl":
                                s=input("Escriba la cantidad a convertir ")
                                if s.isalpha()==True:
                                    s=float(s)
                                    print("Tipo de dato incorrecto, regreso al menu anterior")
                                    break
                                else:
                                    s=float(s)
                                print("La cantidad en onzas liquidas es: "  + str((s*33.814)/10))
                                break
                            elif n=="galones":
                                s=input("Escriba la cantidad a convertir ")
                                if s.isalpha()==True:
                                    s=float(s)
                                    print("Tipo de dato incorrecto, regreso al menu anterior")
                                    break
                                else:
                                    s=float(s)
                                print("La cantidad en galones es: "  + str((s*33.814)/(128*10)))
                                break
                            elif n=="pintas":
                                s=input("Escriba la cantidad a convertir ")
                                if s.isalpha()==True:
                                    s=float(s)
                                    print("Tipo de dato incorrecto, regreso al menu anterior")
                                    break
                                else:
                                    s=float(s)
                                print("La cantidad en pintas es: "  + str((s*33.814)/(16*10)))
                                break
                            elif n=="ml":
                                s=input("Escriba la cantidad a convertir ")
                                if s.isalpha()==True:
                                    s=float(s)
                                    print("Tipo de dato incorrecto, regreso al menu anterior")
                                    break
                                else:
                                    s=float(s)
                                print("La cantidad en mililitros es: "  + str(s*10))
                                break
                            elif n=="cl":
                                s=input("Escriba la cantidad a convertir ")
                                if s.isalpha()==True:
                                    s=float(s)
                                    print("Tipo de dato incorrecto, regreso al menu anterior")
                                    break
                                else:
                                    s=float(s)
                                print("La cantidad en centilitros es: "  + str(s*100))
                                break
                            elif n=="l":
                                s=input("Escriba la cantidad a convertir ")
                                if s.isalpha()==True:
                                    s=float(s)
                                    print("Tipo de dato incorrecto, regreso al menu anterior")
                                    break
                                else:
                                    s=float(s)
                                print("La cantidad en litros es: "  + str(s/10))
                                break
                            elif n=="dl":
                                s=input("Escriba la cantidad a convertir ")
                                if s.isalpha()==True:
                                    s=float(s)
                                    print("Tipo de dato incorrecto, regreso al menu anterior")
                                    break
                                else:
                                    s=float(s)
                                print("La cantidad en decalitros es: "  + str(s/100))
                                break
                            elif n=="hl":
                                s=input("Escriba la cantidad a convertir ")
                                if s.isalpha()==True:
                                    s=float(s)
                                    print("Tipo de dato incorrecto, regreso al menu anterior")
                                    break
                                else:
                                    s=float(s)
                                print("La cantidad en hectolitros es: "  + str(s/1000))
                                break
                            elif n=="kl":
                                s=input("Escriba la cantidad a convertir ")
                                if s.isalpha()==True:
                                    s=float(s)
                                    print("Tipo de dato incorrecto, regreso al menu anterior")
                                    break
                                else:
                                    s=float(s)
                                print("La cantidad en kilolitros es: "  + str(s/10000))
                                break
                            elif n=="atras":
                                break
                            else:
                                print("Seleccion incorrecta, vuelva a elegir")
                    elif n=="l":
                        while True:
                            n=input("Escriba \"ml\", \"cl\", \"dcl\", \"dl\", \"hl\", \"kl\", \"pintas\", \"galones\" o \"atras\" para elegir la unidad o volver al menu anterior ")
                            if n=="ozl":
                                s=input("Escriba la cantidad a convertir ")
                                if s.isalpha()==True:
                                    s=float(s)
                                    print("Tipo de dato incorrecto, regreso al menu anterior")
                                    break
                                else:
                                    s=float(s)
                                print("La cantidad en onzas liquidas es: "  + str((s*33.814)))
                                break
                            elif n=="galones":
                                s=input("Escriba la cantidad a convertir ")
                                if s.isalpha()==True:
                                    s=float(s)
                                    print("Tipo de dato incorrecto, regreso al menu anterior")
                                    break
                                else:
                                    s=float(s)
                                print("La cantidad en  galones es: "  + str((s*33.814)/(128)))
                                break
                            elif n=="pintas":
                                s=input("Escriba la cantidad a convertir ")
                                if s.isalpha()==True:
                                    s=float(s)
                                    print("Tipo de dato incorrecto, regreso al menu anterior")
                                    break
                                else:
                                    s=float(s)
                                print("La cantidad en pintas es: "  + str((s*33.814)/(16)))
                                break
                            elif n=="ml":
                                s=input("Escriba la cantidad a convertir ")
                                if s.isalpha()==True:
                                    s=float(s)
                                    print("Tipo de dato incorrecto, regreso al menu anterior")
                                    break
                                else:
                                    s=float(s)
                                print("La cantidad en mililitros es: "  + str(s*1000))
                                break
                            elif n=="cl":
                                s=input("Escriba la cantidad a convertir ")
                                if s.isalpha()==True:
                                    s=float(s)
                                    print("Tipo de dato incorrecto, regreso al menu anterior")
                                    break
                                else:
                                    s=float(s)
                                print("La cantidad en centilitros es: "  + str(s*100))
                                break
                            elif n=="dcl":
                                s=input("Escriba la cantidad a convertir ")
                                if s.isalpha()==True:
                                    s=float(s)
                                    print("Tipo de dato incorrecto, regreso al menu anterior")
                                    break
                                else:
                                    s=float(s)
                                print("La cantidad en decilitros es: "  + str(s*10))
                                break
                            elif n=="dl":
                                s=input("Escriba la cantidad a convertir ")
                                if s.isalpha()==True:
                                    s=float(s)
                                    print("La cantidad en decalitros es: "  + str(s/10))
                                else:
                                    s=float(s)
                                    break
                            elif n=="hl":
                                s=input("Escriba la cantidad a convertir ")
                                if s.isalpha()==True:
                                    s=float(s)
                                    print("Tipo de dato incorrecto, regreso al menu anterior")
                                    break
                                else:
                                    s=float(s)
                                print("La cantidad en hectolitros es: "  + str(s/100))
                                break
                            elif n=="kl":
                                s=input("Escriba la cantidad a convertir ")
                                if s.isalpha()==True:
                                    s=float(s)
                                    print("Tipo de dato incorrecto, regreso al menu anterior")
                                    break
                                else:
                                    s=float(s)
                                print("La cantidad en kilolitros es: "  + str(s/1000))
                                break
                            elif n=="atras":
                                break
                            else:
                                print("Seleccion incorrecta, vuelva a elegir")
                    elif n=="dl":
                        while True:
                            n=input("Escriba \"ml\", \"cl\", \"dcl\", \"l\", \"hl\", \"kl\", \"pintas\", \"galones\" o \"atras\" para elegir la unidad o volver al menu anterior ")
                            if n=="ozl":
                                s=input("Escriba la cantidad a convertir ")
                                if s.isalpha()==True:
                                    s=float(s)
                                    print("Tipo de dato incorrecto, regreso al menu anterior")
                                    break
                                else:
                                    s=float(s)
                                print("La cantidad en onzas liquidas es: "  + str((s*33.814/10)))
                                break
                            elif n=="galones":
                                s=input("Escriba la cantidad a convertir ")
                                if s.isalpha()==True:
                                    s=float(s)
                                    print("Tipo de dato incorrecto, regreso al menu anterior")
                                    break
                                else:
                                    s=float(s)
                                print("La cantidad en galones es: "  + str((s*33.814*10)/(128)))
                                break
                            elif n=="pintas":
                                s=input("Escriba la cantidad a convertir ")
                                if s.isalpha()==True:
                                    s=float(s)
                                    print("Tipo de dato incorrecto, regreso al menu anterior")
                                    break
                                else:
                                    s=float(s)
                                print("La cantidad en pintas es: "  + str((s*33.814*10)/(16)))
                                break
                            elif n=="ml":
                                s=input("Escriba la cantidad a convertir ")
                                if s.isalpha()==True:
                                    s=float(s)
                                    print("Tipo de dato incorrecto, regreso al menu anterior")
                                    break
                                else:
                                    s=float(s)
                                print("La cantidad en mililitros es: "  + str(s*10000))
                                break
                            elif n=="cl":
                                s=input("Escriba la cantidad a convertir ")
                                if s.isalpha()==True:
                                    s=float(s)
                                    print("Tipo de dato incorrecto, regreso al menu anterior")
                                    break
                                else:
                                    s=float(s)
                                print("La cantidad en centilitros es: "  + str(s*1000))
                                break
                            elif n=="dcl":
                                s=input("Escriba la cantidad a convertir ")
                                if s.isalpha()==True:
                                    s=float(s)
                                    print("Tipo de dato incorrecto, regreso al menu anterior")
                                    break
                                else:
                                    s=float(s)
                                print("La cantidad en decilitros es: "  + str(s*100))
                                break
                            elif n=="l":
                                s=input("Escriba la cantidad a convertir ")
                                if s.isalpha()==True:
                                    s=float(s)
                                    print("Tipo de dato incorrecto, regreso al menu anterior")
                                    break
                                else:
                                    s=float(s)
                                print("La cantidad en litros es: "  + str(s*10))
                                break
                            elif n=="hl":
                                s=input("Escriba la cantidad a convertir ")
                                if s.isalpha()==True:
                                    s=float(s)
                                    print("Tipo de dato incorrecto, regreso al menu anterior")
                                    break
                                else:
                                    s=float(s)
                                print("La cantidad en hectolitros es: "  + str(s/10))
                                break
                            elif n=="kl":
                                s=input("Escriba la cantidad a convertir ")
                                if s.isalpha()==True:
                                    s=float(s)
                                    print("Tipo de dato incorrecto, regreso al menu anterior")
                                    break
                                else:
                                    s=float(s)
                                print("La cantidad en kilolitros es: "  + str(s/100))
                                break
                            elif n=="atras":
                                break
                            else:
                                print("Seleccion incorrecta, vuelva a elegir")
                    elif n=="hl":
                        while True:
                            n=input("Escriba \"ml\", \"cl\", \"dcl\", \"l\", \"dl\", \"kl\", \"pintas\", \"galones\" o \"atras\" para elegir la unidad o volver al menu anterior ")
                            if n=="ozl":
                                s=input("Escriba la cantidad a convertir ")
                                if s.isalpha()==True:
                                    s=float(s)
                                    print("Tipo de dato incorrecto, regreso al menu anterior")
                                    break
                                else:
                                    s=float(s)
                                print("La cantidad en onzas liquidas es: "  + str((s*33.814/100)))
                                break
                            elif n=="galones":
                                s=input("Escriba la cantidad a convertir ")
                                if s.isalpha()==True:
                                    s=float(s)
                                    print("Tipo de dato incorrecto, regreso al menu anterior")
                                    break
                                else:
                                    s=float(s)
                                print("La cantidad en galones es: "  + str((s*33.814*100)/(128)))
                                break
                            elif n=="pintas":
                                s=input("Escriba la cantidad a convertir ")
                                if s.isalpha()==True:
                                    s=float(s)
                                    print("Tipo de dato incorrecto, regreso al menu anterior")
                                    break
                                else:
                                    s=float(s)
                                print("La cantidad en pintas es: "  + str((s*33.814*100)/(16)))
                                break
                            elif n=="ml":
                                s=input("Escriba la cantidad a convertir ")
                                if s.isalpha()==True:
                                    s=float(s)
                                    print("Tipo de dato incorrecto, regreso al menu anterior")
                                    break
                                else:
                                    s=float(s)
                                print("La cantidad en mililitros es: "  + str(s*100000))
                                break
                            elif n=="cl":
                                s=input("Escriba la cantidad a convertir ")
                                if s.isalpha()==True:
                                    s=float(s)
                                    print("Tipo de dato incorrecto, regreso al menu anterior")
                                    break
                                else:
                                    s=float(s)
                                print("La cantidad en centilitro es: "  + str(s*10000))
                                break
                            elif n=="dcl":
                                s=input("Escriba la cantidad a convertir ")
                                if s.isalpha()==True:
                                    s=float(s)
                                    print("Tipo de dato incorrecto, regreso al menu anterior")
                                    break
                                else:
                                    s=float(s)
                                print("La cantidad en decilitros es: "  + str(s*1000))
                                break
                            elif n=="l":
                                s=input("Escriba la cantidad a convertir ")
                                if s.isalpha()==True:
                                    s=float(s)
                                    print("Tipo de dato incorrecto, regreso al menu anterior")
                                    break
                                else:
                                    s=float(s)
                                print("La cantidad en litros es: "  + str(s*100))
                                break
                            elif n=="hl":
                                s=input("Escriba la cantidad a convertir ")
                                if s.isalpha()==True:
                                    s=float(s)
                                    print("Tipo de dato incorrecto, regreso al menu anterior")
                                    break
                                else:
                                    s=float(s)
                                print("La cantidad en hectolitros es: "  + str(s*10))
                                break
                            elif n=="kl":
                                s=input("Escriba la cantidad a convertir ")
                                if s.isalpha()==True:
                                    s=float(s)
                                    print("Tipo de dato incorrecto, regreso al menu anterior")
                                    break
                                else:
                                    s=float(s)
                                print("La cantidad en kilolitros es: "  + str(s/10))
                                break
                            elif n=="atras":
                                break
                            else:
                                print("Seleccion incorrecta, vuelva a elegir")
                    elif n=="hl":
                        while True:
                            n=input("Escriba \"ml\", \"cl\", \"dcl\", \"l\", \"dl\", \"kl\", \"pintas\", \"galones\" o \"atras\" para elegir la unidad o volver al menu anterior ")
                            if n=="ozl":
                                s=input("Escriba la cantidad a convertir ")
                                if s.isalpha()==True:
                                    s=float(s)
                                    print("Tipo de dato incorrecto, regreso al menu anterior")
                                    break
                                else:
                                    s=float(s)
                                print("La cantidad en onzas liquidas es: " + str((s*33.814/1000)))
                                break
                            elif n=="galones":
                                s=input("Escriba la cantidad a convertir ")
                                if s.isalpha()==True:
                                    s=float(s)
                                    print("Tipo de dato incorrecto, regreso al menu anterior")
                                    break
                                else:
                                    s=float(s)
                                print("La cantidad en galones es: " + str((s*33.814*1000)/(128)))
                                break
                            elif n=="pintas":
                                s=input("Escriba la cantidad a convertir ")
                                if s.isalpha()==True:
                                    s=float(s)
                                    print("Tipo de dato incorrecto, regreso al menu anterior")
                                    break
                                else:
                                    s=float(s)
                                print("La cantidad en pintas es: " + str((s*33.814*1000)/(16)))
                                break
                            elif n=="ml":
                                s=input("Escriba la cantidad a convertir ")
                                if s.isalpha()==True:
                                    s=float(s)
                                    print("Tipo de dato incorrecto, regreso al menu anterior")
                                    break
                                else:
                                    s=float(s)
                                print("La cantidad en mililitros es: " + str(s*1000000))
                                break
                            elif n=="cl":
                                s=input("Escriba la cantidad a convertir ")
                                if s.isalpha()==True:
                                    s=float(s)
                                    print("Tipo de dato incorrecto, regreso al menu anterior")
                                    break
                                else:
                                    s=float(s)
                                print("La cantidad en centilitro es: " + str(s*100000))
                                break
                            elif n=="dcl":
                                s=input("Escriba la cantidad a convertir ")
                                if s.isalpha()==True:
                                    s=float(s)
                                    print("Tipo de dato incorrecto, regreso al menu anterior")
                                    break
                                else:
                                    s=float(s)
                                print("La cantidad en decilitros es: " + str(s*10000))
                                break
                            elif n=="l":
                                s=input("Escriba la cantidad a convertir ")
                                if s.isalpha()==True:
                                    s=float(s)
                                    print("Tipo de dato incorrecto, regreso al menu anterior")
                                    break
                                else:
                                    s=float(s)
                                print("La cantidad en litros es: " + str(s*1000))
                                break
                            elif n=="hl":
                                s=input("Escriba la cantidad a convertir ")
                                if s.isalpha()==True:
                                    s=float(s)
                                    print("Tipo de dato incorrecto, regreso al menu anterior")
                                    break
                                else:
                                    s=float(s)
                                print("La cantidad en hectolitros es: " + str(s*100))
                                break
                            elif n=="kl":
                                s=input("Escriba la cantidad a convertir ")
                                if s.isalpha()==True:
                                    s=float(s)
                                    print("Tipo de dato incorrecto, regreso al menu anterior")
                                    break
                                else:
                                    s=float(s)
                                print("La cantidad en kilolitros es: " + str(s*10))
                                break
                            elif n=="atras":
                                break
                            else:
                                print("Seleccion incorrecta, vuelva a elegir")
                    elif n=="atras":
                        break
                    else:
                        print("Seleccion incorrecta, vuelva a elegir")
            elif n=="atras":
                break
            else:
                print("Seleccion incorrecta, vuelva a elegir")
    elif n == "salir":
        break
    else:
        print('Seleccion incorrecta, vuelva a elegir')